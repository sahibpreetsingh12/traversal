{
 "cells": [
  {
   "cell_type": "markdown",
   "metadata": {},
   "source": [
    "link to hackathon  -  https://huggingface.co/traversaal-ai-hackathon"
   ]
  },
  {
   "cell_type": "markdown",
   "metadata": {},
   "source": [
    "Things to Try:-\n",
    "\n",
    "1. For Stage 1 we have to make a semantic RAG system that tells **why a hotel is good** so **summarisation** as well **prompt_temple** will be used now\n",
    "2. Different embeddings models - **mixbread** and **bge** vecause they are state if the art as of now. - Mix bread large - https://huggingface.co/mixedbread-ai/mxbai-embed-large-v1 and it's in top 5 of MTEB leaderboard - https://huggingface.co/spaces/mteb/leaderboard\n",
    "3. Rerankers - **cohere**,**flashrank** and etc\n",
    "4. Different Retrival stratergies\n",
    "5. To improve RAG's performance we can go graph way(last option)  - https://blog.langchain.dev/enhancing-rag-based-applications-accuracy-by-constructing-and-leveraging-knowledge-graphs/\n",
    "6. We can add feature of reverese image search via qdrant - Person uploads a photo if that photo is similar to ares api's output - we will look int our DB and answer - https://colab.research.google.com/github/qdrant/examples/blob/master/ecommerce_reverse_image_search/ecommerce-reverse-image-search.ipynb\n",
    "7. For our own Judgement we can either use **MRR** or **precision@k** - https://qdrant.tech/documentation/tutorials/retrieval-quality/\n",
    "8. Recommendation engine Qdrant - https://qdrant.tech/articles/new-recommendation-api/"
   ]
  },
  {
   "cell_type": "code",
   "execution_count": null,
   "metadata": {},
   "outputs": [],
   "source": []
  },
  {
   "cell_type": "code",
   "execution_count": 1,
   "metadata": {},
   "outputs": [],
   "source": [
    "# %pip install --upgrade --quiet langchain langchain-openai"
   ]
  },
  {
   "cell_type": "code",
   "execution_count": 8,
   "metadata": {},
   "outputs": [],
   "source": [
    "import pandas as pd\n",
    "from datasets import load_dataset\n",
    "dataset = load_dataset(\"traversaal-ai-hackathon/hotel_datasets\")\n",
    "df=pd.DataFrame(dataset['train'])\n",
    "df.to_csv('hotels-dataset.csv', index=False)"
   ]
  },
  {
   "cell_type": "code",
   "execution_count": 9,
   "metadata": {},
   "outputs": [
    {
     "data": {
      "text/plain": [
       "DatasetDict({\n",
       "    train: Dataset({\n",
       "        features: ['hotel_name', 'hotel_description', 'review_title', 'review_text', 'rate', 'tripdate', 'hotel_url', 'hotel_image', 'price_range', 'rating_value', 'review_count', 'street_address', 'locality', 'country'],\n",
       "        num_rows: 5997\n",
       "    })\n",
       "})"
      ]
     },
     "execution_count": 9,
     "metadata": {},
     "output_type": "execute_result"
    }
   ],
   "source": [
    "dataset"
   ]
  },
  {
   "cell_type": "code",
   "execution_count": 10,
   "metadata": {},
   "outputs": [
    {
     "data": {
      "text/plain": [
       "True"
      ]
     },
     "execution_count": 10,
     "metadata": {},
     "output_type": "execute_result"
    }
   ],
   "source": [
    "from langchain_community.document_loaders.csv_loader import CSVLoader\n",
    "from langchain_community.vectorstores import Qdrant\n",
    "from langchain_community.embeddings import HuggingFaceEmbeddings\n",
    "import qdrant_client\n",
    "from dotenv import load_dotenv\n",
    "import os\n",
    "load_dotenv()"
   ]
  },
  {
   "cell_type": "code",
   "execution_count": 11,
   "metadata": {},
   "outputs": [
    {
     "data": {
      "text/plain": [
       "{'hotel_name': 'Romance Istanbul Hotel',\n",
       " 'hotel_description': 'Romance Istanbul Hotel has 39 rooms.Every room is elegantly furnished and harmonizes the modern life style with the traditional Ottoman touch. Romance Istanbul sits at the intersection of the old city’s most important part. With its luxuriously inspiring design and landmark old city location, steeped in the history of its surroundings, Romance Istanbul Hotel welcomes you with exceptional designed rooms and world-renowned Turkish hospitality. Our colleagues deliver the most personal service. It is perfectly placed and perfectly designed to enhance all that Istanbul has to offer. Each room offers a private bathroom and shower. Each is equipped with a satellite TV and free wifi connection. The rooms size change between 20 m2 and 45 m2. It includes 7 suite rooms: 1 Royal Suite, 4 Grand Suite, 1 Romance Suite and 1 Premium Suite, 2 Luxury Room With Terrace, 22 Deluxe Room, 8 City Room.',\n",
       " 'review_title': 'An exceptional boutique hotel, great value for your money',\n",
       " 'review_text': None,\n",
       " 'rate': None,\n",
       " 'tripdate': ' February 2020',\n",
       " 'hotel_url': 'https://www.tripadvisor.com/Hotel_Review-g293974-d8364987-Reviews-Romance_Istanbul_Hotel-Istanbul.html',\n",
       " 'hotel_image': 'https://media-cdn.tripadvisor.com/media/photo-s/1c/02/78/ba/romance-istanbul-hotel.jpg',\n",
       " 'price_range': '$ (Based on Average Nightly Rates for a Standard Room from our Partners)',\n",
       " 'rating_value': 5.0,\n",
       " 'review_count': 4023,\n",
       " 'street_address': 'Hudavendigar Cd. No:5 Sirkeci',\n",
       " 'locality': 'Istanbul',\n",
       " 'country': 'Turkiye'}"
      ]
     },
     "execution_count": 11,
     "metadata": {},
     "output_type": "execute_result"
    }
   ],
   "source": [
    "dataset['train'][0]"
   ]
  },
  {
   "cell_type": "code",
   "execution_count": 12,
   "metadata": {},
   "outputs": [],
   "source": [
    "QDRANT_URL = os.getenv('QDRANT_URL')\n",
    "QDRANT_API_KEY = os.getenv('QDRANT_API_KEY')\n",
    "OPENAI_API_KEY = os.getenv('open_ai_key')\n",
    "os.environ['openai_api_key'] = OPENAI_API_KEY"
   ]
  },
  {
   "cell_type": "code",
   "execution_count": 13,
   "metadata": {},
   "outputs": [],
   "source": [
    "from qdrant_client import QdrantClient\n",
    "\n",
    "qdrant_client = QdrantClient(\n",
    "    url=QDRANT_URL, \n",
    "    api_key=QDRANT_API_KEY,\n",
    ")"
   ]
  },
  {
   "cell_type": "code",
   "execution_count": 14,
   "metadata": {},
   "outputs": [],
   "source": [
    "\n",
    "VECTOR_DB_COLLECTION = 'traversal'"
   ]
  },
  {
   "cell_type": "code",
   "execution_count": 15,
   "metadata": {},
   "outputs": [],
   "source": [
    "loader = CSVLoader(file_path='hotels-dataset.csv', encoding='utf')\n",
    "data = loader.load()"
   ]
  },
  {
   "cell_type": "code",
   "execution_count": 16,
   "metadata": {},
   "outputs": [
    {
     "data": {
      "text/plain": [
       "langchain_core.documents.base.Document"
      ]
     },
     "execution_count": 16,
     "metadata": {},
     "output_type": "execute_result"
    }
   ],
   "source": [
    "type(data[0])"
   ]
  },
  {
   "cell_type": "code",
   "execution_count": 23,
   "metadata": {},
   "outputs": [],
   "source": [
    "embeddings = HuggingFaceEmbeddings(model_name=\"mixedbread-ai/mxbai-embed-large-v1\")"
   ]
  },
  {
   "cell_type": "code",
   "execution_count": 24,
   "metadata": {},
   "outputs": [],
   "source": [
    "# from sentence_transformers import SentenceTransformer\n",
    "# model = SentenceTransformer(\"mixedbread-ai/mxbai-embed-large-v1\")"
   ]
  },
  {
   "cell_type": "code",
   "execution_count": 25,
   "metadata": {},
   "outputs": [
    {
     "data": {
      "text/plain": [
       "HuggingFaceEmbeddings(client=SentenceTransformer(\n",
       "  (0): Transformer({'max_seq_length': 512, 'do_lower_case': False}) with Transformer model: BertModel \n",
       "  (1): Pooling({'word_embedding_dimension': 1024, 'pooling_mode_cls_token': True, 'pooling_mode_mean_tokens': False, 'pooling_mode_max_tokens': False, 'pooling_mode_mean_sqrt_len_tokens': False, 'pooling_mode_weightedmean_tokens': False, 'pooling_mode_lasttoken': False, 'include_prompt': True})\n",
       "), model_name='mixedbread-ai/mxbai-embed-large-v1', cache_folder=None, model_kwargs={}, encode_kwargs={}, multi_process=False, show_progress=False)"
      ]
     },
     "execution_count": 25,
     "metadata": {},
     "output_type": "execute_result"
    }
   ],
   "source": [
    "embeddings"
   ]
  },
  {
   "cell_type": "code",
   "execution_count": 26,
   "metadata": {},
   "outputs": [],
   "source": [
    "# model"
   ]
  },
  {
   "cell_type": "code",
   "execution_count": null,
   "metadata": {},
   "outputs": [],
   "source": []
  },
  {
   "cell_type": "code",
   "execution_count": 27,
   "metadata": {},
   "outputs": [
    {
     "ename": "KeyboardInterrupt",
     "evalue": "",
     "output_type": "error",
     "traceback": [
      "\u001b[0;31m---------------------------------------------------------------------------\u001b[0m",
      "\u001b[0;31mKeyboardInterrupt\u001b[0m                         Traceback (most recent call last)",
      "Cell \u001b[0;32mIn[27], line 5\u001b[0m\n\u001b[1;32m      3\u001b[0m url \u001b[38;5;241m=\u001b[39m QDRANT_URL\n\u001b[1;32m      4\u001b[0m api_key \u001b[38;5;241m=\u001b[39m QDRANT_API_KEY\n\u001b[0;32m----> 5\u001b[0m qdrant \u001b[38;5;241m=\u001b[39m \u001b[43mQdrant\u001b[49m\u001b[38;5;241;43m.\u001b[39;49m\u001b[43mfrom_documents\u001b[49m\u001b[43m(\u001b[49m\n\u001b[1;32m      6\u001b[0m \u001b[43m    \u001b[49m\u001b[43mdata\u001b[49m\u001b[43m,\u001b[49m\u001b[43m \u001b[49m\u001b[38;5;66;43;03m#document type suppported by langchain\u001b[39;49;00m\n\u001b[1;32m      7\u001b[0m \u001b[43m    \u001b[49m\u001b[43membeddings\u001b[49m\u001b[43m,\u001b[49m\u001b[43m \u001b[49m\u001b[38;5;66;43;03m#hf embeddings\u001b[39;49;00m\n\u001b[1;32m      8\u001b[0m \u001b[43m    \u001b[49m\u001b[43murl\u001b[49m\u001b[38;5;241;43m=\u001b[39;49m\u001b[43murl\u001b[49m\u001b[43m,\u001b[49m\u001b[43m \u001b[49m\u001b[38;5;66;43;03m#url for qdrant index\u001b[39;49;00m\n\u001b[1;32m      9\u001b[0m \u001b[43m    \u001b[49m\u001b[43mprefer_grpc\u001b[49m\u001b[38;5;241;43m=\u001b[39;49m\u001b[38;5;28;43;01mTrue\u001b[39;49;00m\u001b[43m,\u001b[49m\n\u001b[1;32m     10\u001b[0m \u001b[43m    \u001b[49m\u001b[43mapi_key\u001b[49m\u001b[38;5;241;43m=\u001b[39;49m\u001b[43mapi_key\u001b[49m\u001b[43m,\u001b[49m\n\u001b[1;32m     11\u001b[0m \u001b[43m    \u001b[49m\u001b[43mcollection_name\u001b[49m\u001b[38;5;241;43m=\u001b[39;49m\u001b[43mVECTOR_DB_COLLECTION\u001b[49m\u001b[43m,\u001b[49m\n\u001b[1;32m     12\u001b[0m \u001b[43m    \u001b[49m\u001b[43mforce_recreate\u001b[49m\u001b[38;5;241;43m=\u001b[39;49m\u001b[38;5;28;43;01mTrue\u001b[39;49;00m\n\u001b[1;32m     13\u001b[0m \u001b[43m)\u001b[49m\n",
      "File \u001b[0;32m~/miniconda3/envs/traversal/lib/python3.10/site-packages/langchain_core/vectorstores.py:528\u001b[0m, in \u001b[0;36mVectorStore.from_documents\u001b[0;34m(cls, documents, embedding, **kwargs)\u001b[0m\n\u001b[1;32m    526\u001b[0m texts \u001b[38;5;241m=\u001b[39m [d\u001b[38;5;241m.\u001b[39mpage_content \u001b[38;5;28;01mfor\u001b[39;00m d \u001b[38;5;129;01min\u001b[39;00m documents]\n\u001b[1;32m    527\u001b[0m metadatas \u001b[38;5;241m=\u001b[39m [d\u001b[38;5;241m.\u001b[39mmetadata \u001b[38;5;28;01mfor\u001b[39;00m d \u001b[38;5;129;01min\u001b[39;00m documents]\n\u001b[0;32m--> 528\u001b[0m \u001b[38;5;28;01mreturn\u001b[39;00m \u001b[38;5;28;43mcls\u001b[39;49m\u001b[38;5;241;43m.\u001b[39;49m\u001b[43mfrom_texts\u001b[49m\u001b[43m(\u001b[49m\u001b[43mtexts\u001b[49m\u001b[43m,\u001b[49m\u001b[43m \u001b[49m\u001b[43membedding\u001b[49m\u001b[43m,\u001b[49m\u001b[43m \u001b[49m\u001b[43mmetadatas\u001b[49m\u001b[38;5;241;43m=\u001b[39;49m\u001b[43mmetadatas\u001b[49m\u001b[43m,\u001b[49m\u001b[43m \u001b[49m\u001b[38;5;241;43m*\u001b[39;49m\u001b[38;5;241;43m*\u001b[39;49m\u001b[43mkwargs\u001b[49m\u001b[43m)\u001b[49m\n",
      "File \u001b[0;32m~/miniconda3/envs/traversal/lib/python3.10/site-packages/langchain_community/vectorstores/qdrant.py:1366\u001b[0m, in \u001b[0;36mQdrant.from_texts\u001b[0;34m(cls, texts, embedding, metadatas, ids, location, url, port, grpc_port, prefer_grpc, https, api_key, prefix, timeout, host, path, collection_name, distance_func, content_payload_key, metadata_payload_key, vector_name, batch_size, shard_number, replication_factor, write_consistency_factor, on_disk_payload, hnsw_config, optimizers_config, wal_config, quantization_config, init_from, on_disk, force_recreate, **kwargs)\u001b[0m\n\u001b[1;32m   1231\u001b[0m \u001b[38;5;250m\u001b[39m\u001b[38;5;124;03m\"\"\"Construct Qdrant wrapper from a list of texts.\u001b[39;00m\n\u001b[1;32m   1232\u001b[0m \n\u001b[1;32m   1233\u001b[0m \u001b[38;5;124;03mArgs:\u001b[39;00m\n\u001b[0;32m   (...)\u001b[0m\n\u001b[1;32m   1332\u001b[0m \u001b[38;5;124;03m        qdrant = Qdrant.from_texts(texts, embeddings, \"localhost\")\u001b[39;00m\n\u001b[1;32m   1333\u001b[0m \u001b[38;5;124;03m\"\"\"\u001b[39;00m\n\u001b[1;32m   1334\u001b[0m qdrant \u001b[38;5;241m=\u001b[39m \u001b[38;5;28mcls\u001b[39m\u001b[38;5;241m.\u001b[39mconstruct_instance(\n\u001b[1;32m   1335\u001b[0m     texts,\n\u001b[1;32m   1336\u001b[0m     embedding,\n\u001b[0;32m   (...)\u001b[0m\n\u001b[1;32m   1364\u001b[0m     \u001b[38;5;241m*\u001b[39m\u001b[38;5;241m*\u001b[39mkwargs,\n\u001b[1;32m   1365\u001b[0m )\n\u001b[0;32m-> 1366\u001b[0m \u001b[43mqdrant\u001b[49m\u001b[38;5;241;43m.\u001b[39;49m\u001b[43madd_texts\u001b[49m\u001b[43m(\u001b[49m\u001b[43mtexts\u001b[49m\u001b[43m,\u001b[49m\u001b[43m \u001b[49m\u001b[43mmetadatas\u001b[49m\u001b[43m,\u001b[49m\u001b[43m \u001b[49m\u001b[43mids\u001b[49m\u001b[43m,\u001b[49m\u001b[43m \u001b[49m\u001b[43mbatch_size\u001b[49m\u001b[43m)\u001b[49m\n\u001b[1;32m   1367\u001b[0m \u001b[38;5;28;01mreturn\u001b[39;00m qdrant\n",
      "File \u001b[0;32m~/miniconda3/envs/traversal/lib/python3.10/site-packages/langchain_community/vectorstores/qdrant.py:187\u001b[0m, in \u001b[0;36mQdrant.add_texts\u001b[0;34m(self, texts, metadatas, ids, batch_size, **kwargs)\u001b[0m\n\u001b[1;32m    171\u001b[0m \u001b[38;5;250m\u001b[39m\u001b[38;5;124;03m\"\"\"Run more texts through the embeddings and add to the vectorstore.\u001b[39;00m\n\u001b[1;32m    172\u001b[0m \n\u001b[1;32m    173\u001b[0m \u001b[38;5;124;03mArgs:\u001b[39;00m\n\u001b[0;32m   (...)\u001b[0m\n\u001b[1;32m    184\u001b[0m \u001b[38;5;124;03m    List of ids from adding the texts into the vectorstore.\u001b[39;00m\n\u001b[1;32m    185\u001b[0m \u001b[38;5;124;03m\"\"\"\u001b[39;00m\n\u001b[1;32m    186\u001b[0m added_ids \u001b[38;5;241m=\u001b[39m []\n\u001b[0;32m--> 187\u001b[0m \u001b[38;5;28;01mfor\u001b[39;00m batch_ids, points \u001b[38;5;129;01min\u001b[39;00m \u001b[38;5;28mself\u001b[39m\u001b[38;5;241m.\u001b[39m_generate_rest_batches(\n\u001b[1;32m    188\u001b[0m     texts, metadatas, ids, batch_size\n\u001b[1;32m    189\u001b[0m ):\n\u001b[1;32m    190\u001b[0m     \u001b[38;5;28mself\u001b[39m\u001b[38;5;241m.\u001b[39mclient\u001b[38;5;241m.\u001b[39mupsert(\n\u001b[1;32m    191\u001b[0m         collection_name\u001b[38;5;241m=\u001b[39m\u001b[38;5;28mself\u001b[39m\u001b[38;5;241m.\u001b[39mcollection_name, points\u001b[38;5;241m=\u001b[39mpoints, \u001b[38;5;241m*\u001b[39m\u001b[38;5;241m*\u001b[39mkwargs\n\u001b[1;32m    192\u001b[0m     )\n\u001b[1;32m    193\u001b[0m     added_ids\u001b[38;5;241m.\u001b[39mextend(batch_ids)\n",
      "File \u001b[0;32m~/miniconda3/envs/traversal/lib/python3.10/site-packages/langchain_community/vectorstores/qdrant.py:2097\u001b[0m, in \u001b[0;36mQdrant._generate_rest_batches\u001b[0;34m(self, texts, metadatas, ids, batch_size)\u001b[0m\n\u001b[1;32m   2094\u001b[0m batch_ids \u001b[38;5;241m=\u001b[39m \u001b[38;5;28mlist\u001b[39m(islice(ids_iterator, batch_size))\n\u001b[1;32m   2096\u001b[0m \u001b[38;5;66;03m# Generate the embeddings for all the texts in a batch\u001b[39;00m\n\u001b[0;32m-> 2097\u001b[0m batch_embeddings \u001b[38;5;241m=\u001b[39m \u001b[38;5;28;43mself\u001b[39;49m\u001b[38;5;241;43m.\u001b[39;49m\u001b[43m_embed_texts\u001b[49m\u001b[43m(\u001b[49m\u001b[43mbatch_texts\u001b[49m\u001b[43m)\u001b[49m\n\u001b[1;32m   2099\u001b[0m points \u001b[38;5;241m=\u001b[39m [\n\u001b[1;32m   2100\u001b[0m     rest\u001b[38;5;241m.\u001b[39mPointStruct(\n\u001b[1;32m   2101\u001b[0m         \u001b[38;5;28mid\u001b[39m\u001b[38;5;241m=\u001b[39mpoint_id,\n\u001b[0;32m   (...)\u001b[0m\n\u001b[1;32m   2116\u001b[0m     )\n\u001b[1;32m   2117\u001b[0m ]\n\u001b[1;32m   2119\u001b[0m \u001b[38;5;28;01myield\u001b[39;00m batch_ids, points\n",
      "File \u001b[0;32m~/miniconda3/envs/traversal/lib/python3.10/site-packages/langchain_community/vectorstores/qdrant.py:2037\u001b[0m, in \u001b[0;36mQdrant._embed_texts\u001b[0;34m(self, texts)\u001b[0m\n\u001b[1;32m   2026\u001b[0m \u001b[38;5;250m\u001b[39m\u001b[38;5;124;03m\"\"\"Embed search texts.\u001b[39;00m\n\u001b[1;32m   2027\u001b[0m \n\u001b[1;32m   2028\u001b[0m \u001b[38;5;124;03mUsed to provide backward compatibility with `embedding_function` argument.\u001b[39;00m\n\u001b[0;32m   (...)\u001b[0m\n\u001b[1;32m   2034\u001b[0m \u001b[38;5;124;03m    List of floats representing the texts embedding.\u001b[39;00m\n\u001b[1;32m   2035\u001b[0m \u001b[38;5;124;03m\"\"\"\u001b[39;00m\n\u001b[1;32m   2036\u001b[0m \u001b[38;5;28;01mif\u001b[39;00m \u001b[38;5;28mself\u001b[39m\u001b[38;5;241m.\u001b[39membeddings \u001b[38;5;129;01mis\u001b[39;00m \u001b[38;5;129;01mnot\u001b[39;00m \u001b[38;5;28;01mNone\u001b[39;00m:\n\u001b[0;32m-> 2037\u001b[0m     embeddings \u001b[38;5;241m=\u001b[39m \u001b[38;5;28;43mself\u001b[39;49m\u001b[38;5;241;43m.\u001b[39;49m\u001b[43membeddings\u001b[49m\u001b[38;5;241;43m.\u001b[39;49m\u001b[43membed_documents\u001b[49m\u001b[43m(\u001b[49m\u001b[38;5;28;43mlist\u001b[39;49m\u001b[43m(\u001b[49m\u001b[43mtexts\u001b[49m\u001b[43m)\u001b[49m\u001b[43m)\u001b[49m\n\u001b[1;32m   2038\u001b[0m     \u001b[38;5;28;01mif\u001b[39;00m \u001b[38;5;28mhasattr\u001b[39m(embeddings, \u001b[38;5;124m\"\u001b[39m\u001b[38;5;124mtolist\u001b[39m\u001b[38;5;124m\"\u001b[39m):\n\u001b[1;32m   2039\u001b[0m         embeddings \u001b[38;5;241m=\u001b[39m embeddings\u001b[38;5;241m.\u001b[39mtolist()\n",
      "File \u001b[0;32m~/miniconda3/envs/traversal/lib/python3.10/site-packages/langchain_community/embeddings/huggingface.py:93\u001b[0m, in \u001b[0;36mHuggingFaceEmbeddings.embed_documents\u001b[0;34m(self, texts)\u001b[0m\n\u001b[1;32m     91\u001b[0m     sentence_transformers\u001b[38;5;241m.\u001b[39mSentenceTransformer\u001b[38;5;241m.\u001b[39mstop_multi_process_pool(pool)\n\u001b[1;32m     92\u001b[0m \u001b[38;5;28;01melse\u001b[39;00m:\n\u001b[0;32m---> 93\u001b[0m     embeddings \u001b[38;5;241m=\u001b[39m \u001b[38;5;28;43mself\u001b[39;49m\u001b[38;5;241;43m.\u001b[39;49m\u001b[43mclient\u001b[49m\u001b[38;5;241;43m.\u001b[39;49m\u001b[43mencode\u001b[49m\u001b[43m(\u001b[49m\n\u001b[1;32m     94\u001b[0m \u001b[43m        \u001b[49m\u001b[43mtexts\u001b[49m\u001b[43m,\u001b[49m\u001b[43m \u001b[49m\u001b[43mshow_progress_bar\u001b[49m\u001b[38;5;241;43m=\u001b[39;49m\u001b[38;5;28;43mself\u001b[39;49m\u001b[38;5;241;43m.\u001b[39;49m\u001b[43mshow_progress\u001b[49m\u001b[43m,\u001b[49m\u001b[43m \u001b[49m\u001b[38;5;241;43m*\u001b[39;49m\u001b[38;5;241;43m*\u001b[39;49m\u001b[38;5;28;43mself\u001b[39;49m\u001b[38;5;241;43m.\u001b[39;49m\u001b[43mencode_kwargs\u001b[49m\n\u001b[1;32m     95\u001b[0m \u001b[43m    \u001b[49m\u001b[43m)\u001b[49m\n\u001b[1;32m     97\u001b[0m \u001b[38;5;28;01mreturn\u001b[39;00m embeddings\u001b[38;5;241m.\u001b[39mtolist()\n",
      "File \u001b[0;32m~/miniconda3/envs/traversal/lib/python3.10/site-packages/sentence_transformers/SentenceTransformer.py:350\u001b[0m, in \u001b[0;36mSentenceTransformer.encode\u001b[0;34m(self, sentences, prompt_name, prompt, batch_size, show_progress_bar, output_value, convert_to_numpy, convert_to_tensor, device, normalize_embeddings)\u001b[0m\n\u001b[1;32m    347\u001b[0m features\u001b[38;5;241m.\u001b[39mupdate(extra_features)\n\u001b[1;32m    349\u001b[0m \u001b[38;5;28;01mwith\u001b[39;00m torch\u001b[38;5;241m.\u001b[39mno_grad():\n\u001b[0;32m--> 350\u001b[0m     out_features \u001b[38;5;241m=\u001b[39m \u001b[38;5;28;43mself\u001b[39;49m\u001b[38;5;241;43m.\u001b[39;49m\u001b[43mforward\u001b[49m\u001b[43m(\u001b[49m\u001b[43mfeatures\u001b[49m\u001b[43m)\u001b[49m\n\u001b[1;32m    352\u001b[0m     \u001b[38;5;28;01mif\u001b[39;00m output_value \u001b[38;5;241m==\u001b[39m \u001b[38;5;124m\"\u001b[39m\u001b[38;5;124mtoken_embeddings\u001b[39m\u001b[38;5;124m\"\u001b[39m:\n\u001b[1;32m    353\u001b[0m         embeddings \u001b[38;5;241m=\u001b[39m []\n",
      "File \u001b[0;32m~/miniconda3/envs/traversal/lib/python3.10/site-packages/torch/nn/modules/container.py:217\u001b[0m, in \u001b[0;36mSequential.forward\u001b[0;34m(self, input)\u001b[0m\n\u001b[1;32m    215\u001b[0m \u001b[38;5;28;01mdef\u001b[39;00m \u001b[38;5;21mforward\u001b[39m(\u001b[38;5;28mself\u001b[39m, \u001b[38;5;28minput\u001b[39m):\n\u001b[1;32m    216\u001b[0m     \u001b[38;5;28;01mfor\u001b[39;00m module \u001b[38;5;129;01min\u001b[39;00m \u001b[38;5;28mself\u001b[39m:\n\u001b[0;32m--> 217\u001b[0m         \u001b[38;5;28minput\u001b[39m \u001b[38;5;241m=\u001b[39m \u001b[43mmodule\u001b[49m\u001b[43m(\u001b[49m\u001b[38;5;28;43minput\u001b[39;49m\u001b[43m)\u001b[49m\n\u001b[1;32m    218\u001b[0m     \u001b[38;5;28;01mreturn\u001b[39;00m \u001b[38;5;28minput\u001b[39m\n",
      "File \u001b[0;32m~/miniconda3/envs/traversal/lib/python3.10/site-packages/torch/nn/modules/module.py:1511\u001b[0m, in \u001b[0;36mModule._wrapped_call_impl\u001b[0;34m(self, *args, **kwargs)\u001b[0m\n\u001b[1;32m   1509\u001b[0m     \u001b[38;5;28;01mreturn\u001b[39;00m \u001b[38;5;28mself\u001b[39m\u001b[38;5;241m.\u001b[39m_compiled_call_impl(\u001b[38;5;241m*\u001b[39margs, \u001b[38;5;241m*\u001b[39m\u001b[38;5;241m*\u001b[39mkwargs)  \u001b[38;5;66;03m# type: ignore[misc]\u001b[39;00m\n\u001b[1;32m   1510\u001b[0m \u001b[38;5;28;01melse\u001b[39;00m:\n\u001b[0;32m-> 1511\u001b[0m     \u001b[38;5;28;01mreturn\u001b[39;00m \u001b[38;5;28;43mself\u001b[39;49m\u001b[38;5;241;43m.\u001b[39;49m\u001b[43m_call_impl\u001b[49m\u001b[43m(\u001b[49m\u001b[38;5;241;43m*\u001b[39;49m\u001b[43margs\u001b[49m\u001b[43m,\u001b[49m\u001b[43m \u001b[49m\u001b[38;5;241;43m*\u001b[39;49m\u001b[38;5;241;43m*\u001b[39;49m\u001b[43mkwargs\u001b[49m\u001b[43m)\u001b[49m\n",
      "File \u001b[0;32m~/miniconda3/envs/traversal/lib/python3.10/site-packages/torch/nn/modules/module.py:1520\u001b[0m, in \u001b[0;36mModule._call_impl\u001b[0;34m(self, *args, **kwargs)\u001b[0m\n\u001b[1;32m   1515\u001b[0m \u001b[38;5;66;03m# If we don't have any hooks, we want to skip the rest of the logic in\u001b[39;00m\n\u001b[1;32m   1516\u001b[0m \u001b[38;5;66;03m# this function, and just call forward.\u001b[39;00m\n\u001b[1;32m   1517\u001b[0m \u001b[38;5;28;01mif\u001b[39;00m \u001b[38;5;129;01mnot\u001b[39;00m (\u001b[38;5;28mself\u001b[39m\u001b[38;5;241m.\u001b[39m_backward_hooks \u001b[38;5;129;01mor\u001b[39;00m \u001b[38;5;28mself\u001b[39m\u001b[38;5;241m.\u001b[39m_backward_pre_hooks \u001b[38;5;129;01mor\u001b[39;00m \u001b[38;5;28mself\u001b[39m\u001b[38;5;241m.\u001b[39m_forward_hooks \u001b[38;5;129;01mor\u001b[39;00m \u001b[38;5;28mself\u001b[39m\u001b[38;5;241m.\u001b[39m_forward_pre_hooks\n\u001b[1;32m   1518\u001b[0m         \u001b[38;5;129;01mor\u001b[39;00m _global_backward_pre_hooks \u001b[38;5;129;01mor\u001b[39;00m _global_backward_hooks\n\u001b[1;32m   1519\u001b[0m         \u001b[38;5;129;01mor\u001b[39;00m _global_forward_hooks \u001b[38;5;129;01mor\u001b[39;00m _global_forward_pre_hooks):\n\u001b[0;32m-> 1520\u001b[0m     \u001b[38;5;28;01mreturn\u001b[39;00m \u001b[43mforward_call\u001b[49m\u001b[43m(\u001b[49m\u001b[38;5;241;43m*\u001b[39;49m\u001b[43margs\u001b[49m\u001b[43m,\u001b[49m\u001b[43m \u001b[49m\u001b[38;5;241;43m*\u001b[39;49m\u001b[38;5;241;43m*\u001b[39;49m\u001b[43mkwargs\u001b[49m\u001b[43m)\u001b[49m\n\u001b[1;32m   1522\u001b[0m \u001b[38;5;28;01mtry\u001b[39;00m:\n\u001b[1;32m   1523\u001b[0m     result \u001b[38;5;241m=\u001b[39m \u001b[38;5;28;01mNone\u001b[39;00m\n",
      "File \u001b[0;32m~/miniconda3/envs/traversal/lib/python3.10/site-packages/sentence_transformers/models/Transformer.py:98\u001b[0m, in \u001b[0;36mTransformer.forward\u001b[0;34m(self, features)\u001b[0m\n\u001b[1;32m     95\u001b[0m \u001b[38;5;28;01mif\u001b[39;00m \u001b[38;5;124m\"\u001b[39m\u001b[38;5;124mtoken_type_ids\u001b[39m\u001b[38;5;124m\"\u001b[39m \u001b[38;5;129;01min\u001b[39;00m features:\n\u001b[1;32m     96\u001b[0m     trans_features[\u001b[38;5;124m\"\u001b[39m\u001b[38;5;124mtoken_type_ids\u001b[39m\u001b[38;5;124m\"\u001b[39m] \u001b[38;5;241m=\u001b[39m features[\u001b[38;5;124m\"\u001b[39m\u001b[38;5;124mtoken_type_ids\u001b[39m\u001b[38;5;124m\"\u001b[39m]\n\u001b[0;32m---> 98\u001b[0m output_states \u001b[38;5;241m=\u001b[39m \u001b[38;5;28;43mself\u001b[39;49m\u001b[38;5;241;43m.\u001b[39;49m\u001b[43mauto_model\u001b[49m\u001b[43m(\u001b[49m\u001b[38;5;241;43m*\u001b[39;49m\u001b[38;5;241;43m*\u001b[39;49m\u001b[43mtrans_features\u001b[49m\u001b[43m,\u001b[49m\u001b[43m \u001b[49m\u001b[43mreturn_dict\u001b[49m\u001b[38;5;241;43m=\u001b[39;49m\u001b[38;5;28;43;01mFalse\u001b[39;49;00m\u001b[43m)\u001b[49m\n\u001b[1;32m     99\u001b[0m output_tokens \u001b[38;5;241m=\u001b[39m output_states[\u001b[38;5;241m0\u001b[39m]\n\u001b[1;32m    101\u001b[0m features\u001b[38;5;241m.\u001b[39mupdate({\u001b[38;5;124m\"\u001b[39m\u001b[38;5;124mtoken_embeddings\u001b[39m\u001b[38;5;124m\"\u001b[39m: output_tokens, \u001b[38;5;124m\"\u001b[39m\u001b[38;5;124mattention_mask\u001b[39m\u001b[38;5;124m\"\u001b[39m: features[\u001b[38;5;124m\"\u001b[39m\u001b[38;5;124mattention_mask\u001b[39m\u001b[38;5;124m\"\u001b[39m]})\n",
      "File \u001b[0;32m~/miniconda3/envs/traversal/lib/python3.10/site-packages/torch/nn/modules/module.py:1511\u001b[0m, in \u001b[0;36mModule._wrapped_call_impl\u001b[0;34m(self, *args, **kwargs)\u001b[0m\n\u001b[1;32m   1509\u001b[0m     \u001b[38;5;28;01mreturn\u001b[39;00m \u001b[38;5;28mself\u001b[39m\u001b[38;5;241m.\u001b[39m_compiled_call_impl(\u001b[38;5;241m*\u001b[39margs, \u001b[38;5;241m*\u001b[39m\u001b[38;5;241m*\u001b[39mkwargs)  \u001b[38;5;66;03m# type: ignore[misc]\u001b[39;00m\n\u001b[1;32m   1510\u001b[0m \u001b[38;5;28;01melse\u001b[39;00m:\n\u001b[0;32m-> 1511\u001b[0m     \u001b[38;5;28;01mreturn\u001b[39;00m \u001b[38;5;28;43mself\u001b[39;49m\u001b[38;5;241;43m.\u001b[39;49m\u001b[43m_call_impl\u001b[49m\u001b[43m(\u001b[49m\u001b[38;5;241;43m*\u001b[39;49m\u001b[43margs\u001b[49m\u001b[43m,\u001b[49m\u001b[43m \u001b[49m\u001b[38;5;241;43m*\u001b[39;49m\u001b[38;5;241;43m*\u001b[39;49m\u001b[43mkwargs\u001b[49m\u001b[43m)\u001b[49m\n",
      "File \u001b[0;32m~/miniconda3/envs/traversal/lib/python3.10/site-packages/torch/nn/modules/module.py:1520\u001b[0m, in \u001b[0;36mModule._call_impl\u001b[0;34m(self, *args, **kwargs)\u001b[0m\n\u001b[1;32m   1515\u001b[0m \u001b[38;5;66;03m# If we don't have any hooks, we want to skip the rest of the logic in\u001b[39;00m\n\u001b[1;32m   1516\u001b[0m \u001b[38;5;66;03m# this function, and just call forward.\u001b[39;00m\n\u001b[1;32m   1517\u001b[0m \u001b[38;5;28;01mif\u001b[39;00m \u001b[38;5;129;01mnot\u001b[39;00m (\u001b[38;5;28mself\u001b[39m\u001b[38;5;241m.\u001b[39m_backward_hooks \u001b[38;5;129;01mor\u001b[39;00m \u001b[38;5;28mself\u001b[39m\u001b[38;5;241m.\u001b[39m_backward_pre_hooks \u001b[38;5;129;01mor\u001b[39;00m \u001b[38;5;28mself\u001b[39m\u001b[38;5;241m.\u001b[39m_forward_hooks \u001b[38;5;129;01mor\u001b[39;00m \u001b[38;5;28mself\u001b[39m\u001b[38;5;241m.\u001b[39m_forward_pre_hooks\n\u001b[1;32m   1518\u001b[0m         \u001b[38;5;129;01mor\u001b[39;00m _global_backward_pre_hooks \u001b[38;5;129;01mor\u001b[39;00m _global_backward_hooks\n\u001b[1;32m   1519\u001b[0m         \u001b[38;5;129;01mor\u001b[39;00m _global_forward_hooks \u001b[38;5;129;01mor\u001b[39;00m _global_forward_pre_hooks):\n\u001b[0;32m-> 1520\u001b[0m     \u001b[38;5;28;01mreturn\u001b[39;00m \u001b[43mforward_call\u001b[49m\u001b[43m(\u001b[49m\u001b[38;5;241;43m*\u001b[39;49m\u001b[43margs\u001b[49m\u001b[43m,\u001b[49m\u001b[43m \u001b[49m\u001b[38;5;241;43m*\u001b[39;49m\u001b[38;5;241;43m*\u001b[39;49m\u001b[43mkwargs\u001b[49m\u001b[43m)\u001b[49m\n\u001b[1;32m   1522\u001b[0m \u001b[38;5;28;01mtry\u001b[39;00m:\n\u001b[1;32m   1523\u001b[0m     result \u001b[38;5;241m=\u001b[39m \u001b[38;5;28;01mNone\u001b[39;00m\n",
      "File \u001b[0;32m~/miniconda3/envs/traversal/lib/python3.10/site-packages/transformers/models/bert/modeling_bert.py:1013\u001b[0m, in \u001b[0;36mBertModel.forward\u001b[0;34m(self, input_ids, attention_mask, token_type_ids, position_ids, head_mask, inputs_embeds, encoder_hidden_states, encoder_attention_mask, past_key_values, use_cache, output_attentions, output_hidden_states, return_dict)\u001b[0m\n\u001b[1;32m   1004\u001b[0m head_mask \u001b[38;5;241m=\u001b[39m \u001b[38;5;28mself\u001b[39m\u001b[38;5;241m.\u001b[39mget_head_mask(head_mask, \u001b[38;5;28mself\u001b[39m\u001b[38;5;241m.\u001b[39mconfig\u001b[38;5;241m.\u001b[39mnum_hidden_layers)\n\u001b[1;32m   1006\u001b[0m embedding_output \u001b[38;5;241m=\u001b[39m \u001b[38;5;28mself\u001b[39m\u001b[38;5;241m.\u001b[39membeddings(\n\u001b[1;32m   1007\u001b[0m     input_ids\u001b[38;5;241m=\u001b[39minput_ids,\n\u001b[1;32m   1008\u001b[0m     position_ids\u001b[38;5;241m=\u001b[39mposition_ids,\n\u001b[0;32m   (...)\u001b[0m\n\u001b[1;32m   1011\u001b[0m     past_key_values_length\u001b[38;5;241m=\u001b[39mpast_key_values_length,\n\u001b[1;32m   1012\u001b[0m )\n\u001b[0;32m-> 1013\u001b[0m encoder_outputs \u001b[38;5;241m=\u001b[39m \u001b[38;5;28;43mself\u001b[39;49m\u001b[38;5;241;43m.\u001b[39;49m\u001b[43mencoder\u001b[49m\u001b[43m(\u001b[49m\n\u001b[1;32m   1014\u001b[0m \u001b[43m    \u001b[49m\u001b[43membedding_output\u001b[49m\u001b[43m,\u001b[49m\n\u001b[1;32m   1015\u001b[0m \u001b[43m    \u001b[49m\u001b[43mattention_mask\u001b[49m\u001b[38;5;241;43m=\u001b[39;49m\u001b[43mextended_attention_mask\u001b[49m\u001b[43m,\u001b[49m\n\u001b[1;32m   1016\u001b[0m \u001b[43m    \u001b[49m\u001b[43mhead_mask\u001b[49m\u001b[38;5;241;43m=\u001b[39;49m\u001b[43mhead_mask\u001b[49m\u001b[43m,\u001b[49m\n\u001b[1;32m   1017\u001b[0m \u001b[43m    \u001b[49m\u001b[43mencoder_hidden_states\u001b[49m\u001b[38;5;241;43m=\u001b[39;49m\u001b[43mencoder_hidden_states\u001b[49m\u001b[43m,\u001b[49m\n\u001b[1;32m   1018\u001b[0m \u001b[43m    \u001b[49m\u001b[43mencoder_attention_mask\u001b[49m\u001b[38;5;241;43m=\u001b[39;49m\u001b[43mencoder_extended_attention_mask\u001b[49m\u001b[43m,\u001b[49m\n\u001b[1;32m   1019\u001b[0m \u001b[43m    \u001b[49m\u001b[43mpast_key_values\u001b[49m\u001b[38;5;241;43m=\u001b[39;49m\u001b[43mpast_key_values\u001b[49m\u001b[43m,\u001b[49m\n\u001b[1;32m   1020\u001b[0m \u001b[43m    \u001b[49m\u001b[43muse_cache\u001b[49m\u001b[38;5;241;43m=\u001b[39;49m\u001b[43muse_cache\u001b[49m\u001b[43m,\u001b[49m\n\u001b[1;32m   1021\u001b[0m \u001b[43m    \u001b[49m\u001b[43moutput_attentions\u001b[49m\u001b[38;5;241;43m=\u001b[39;49m\u001b[43moutput_attentions\u001b[49m\u001b[43m,\u001b[49m\n\u001b[1;32m   1022\u001b[0m \u001b[43m    \u001b[49m\u001b[43moutput_hidden_states\u001b[49m\u001b[38;5;241;43m=\u001b[39;49m\u001b[43moutput_hidden_states\u001b[49m\u001b[43m,\u001b[49m\n\u001b[1;32m   1023\u001b[0m \u001b[43m    \u001b[49m\u001b[43mreturn_dict\u001b[49m\u001b[38;5;241;43m=\u001b[39;49m\u001b[43mreturn_dict\u001b[49m\u001b[43m,\u001b[49m\n\u001b[1;32m   1024\u001b[0m \u001b[43m\u001b[49m\u001b[43m)\u001b[49m\n\u001b[1;32m   1025\u001b[0m sequence_output \u001b[38;5;241m=\u001b[39m encoder_outputs[\u001b[38;5;241m0\u001b[39m]\n\u001b[1;32m   1026\u001b[0m pooled_output \u001b[38;5;241m=\u001b[39m \u001b[38;5;28mself\u001b[39m\u001b[38;5;241m.\u001b[39mpooler(sequence_output) \u001b[38;5;28;01mif\u001b[39;00m \u001b[38;5;28mself\u001b[39m\u001b[38;5;241m.\u001b[39mpooler \u001b[38;5;129;01mis\u001b[39;00m \u001b[38;5;129;01mnot\u001b[39;00m \u001b[38;5;28;01mNone\u001b[39;00m \u001b[38;5;28;01melse\u001b[39;00m \u001b[38;5;28;01mNone\u001b[39;00m\n",
      "File \u001b[0;32m~/miniconda3/envs/traversal/lib/python3.10/site-packages/torch/nn/modules/module.py:1511\u001b[0m, in \u001b[0;36mModule._wrapped_call_impl\u001b[0;34m(self, *args, **kwargs)\u001b[0m\n\u001b[1;32m   1509\u001b[0m     \u001b[38;5;28;01mreturn\u001b[39;00m \u001b[38;5;28mself\u001b[39m\u001b[38;5;241m.\u001b[39m_compiled_call_impl(\u001b[38;5;241m*\u001b[39margs, \u001b[38;5;241m*\u001b[39m\u001b[38;5;241m*\u001b[39mkwargs)  \u001b[38;5;66;03m# type: ignore[misc]\u001b[39;00m\n\u001b[1;32m   1510\u001b[0m \u001b[38;5;28;01melse\u001b[39;00m:\n\u001b[0;32m-> 1511\u001b[0m     \u001b[38;5;28;01mreturn\u001b[39;00m \u001b[38;5;28;43mself\u001b[39;49m\u001b[38;5;241;43m.\u001b[39;49m\u001b[43m_call_impl\u001b[49m\u001b[43m(\u001b[49m\u001b[38;5;241;43m*\u001b[39;49m\u001b[43margs\u001b[49m\u001b[43m,\u001b[49m\u001b[43m \u001b[49m\u001b[38;5;241;43m*\u001b[39;49m\u001b[38;5;241;43m*\u001b[39;49m\u001b[43mkwargs\u001b[49m\u001b[43m)\u001b[49m\n",
      "File \u001b[0;32m~/miniconda3/envs/traversal/lib/python3.10/site-packages/torch/nn/modules/module.py:1520\u001b[0m, in \u001b[0;36mModule._call_impl\u001b[0;34m(self, *args, **kwargs)\u001b[0m\n\u001b[1;32m   1515\u001b[0m \u001b[38;5;66;03m# If we don't have any hooks, we want to skip the rest of the logic in\u001b[39;00m\n\u001b[1;32m   1516\u001b[0m \u001b[38;5;66;03m# this function, and just call forward.\u001b[39;00m\n\u001b[1;32m   1517\u001b[0m \u001b[38;5;28;01mif\u001b[39;00m \u001b[38;5;129;01mnot\u001b[39;00m (\u001b[38;5;28mself\u001b[39m\u001b[38;5;241m.\u001b[39m_backward_hooks \u001b[38;5;129;01mor\u001b[39;00m \u001b[38;5;28mself\u001b[39m\u001b[38;5;241m.\u001b[39m_backward_pre_hooks \u001b[38;5;129;01mor\u001b[39;00m \u001b[38;5;28mself\u001b[39m\u001b[38;5;241m.\u001b[39m_forward_hooks \u001b[38;5;129;01mor\u001b[39;00m \u001b[38;5;28mself\u001b[39m\u001b[38;5;241m.\u001b[39m_forward_pre_hooks\n\u001b[1;32m   1518\u001b[0m         \u001b[38;5;129;01mor\u001b[39;00m _global_backward_pre_hooks \u001b[38;5;129;01mor\u001b[39;00m _global_backward_hooks\n\u001b[1;32m   1519\u001b[0m         \u001b[38;5;129;01mor\u001b[39;00m _global_forward_hooks \u001b[38;5;129;01mor\u001b[39;00m _global_forward_pre_hooks):\n\u001b[0;32m-> 1520\u001b[0m     \u001b[38;5;28;01mreturn\u001b[39;00m \u001b[43mforward_call\u001b[49m\u001b[43m(\u001b[49m\u001b[38;5;241;43m*\u001b[39;49m\u001b[43margs\u001b[49m\u001b[43m,\u001b[49m\u001b[43m \u001b[49m\u001b[38;5;241;43m*\u001b[39;49m\u001b[38;5;241;43m*\u001b[39;49m\u001b[43mkwargs\u001b[49m\u001b[43m)\u001b[49m\n\u001b[1;32m   1522\u001b[0m \u001b[38;5;28;01mtry\u001b[39;00m:\n\u001b[1;32m   1523\u001b[0m     result \u001b[38;5;241m=\u001b[39m \u001b[38;5;28;01mNone\u001b[39;00m\n",
      "File \u001b[0;32m~/miniconda3/envs/traversal/lib/python3.10/site-packages/transformers/models/bert/modeling_bert.py:607\u001b[0m, in \u001b[0;36mBertEncoder.forward\u001b[0;34m(self, hidden_states, attention_mask, head_mask, encoder_hidden_states, encoder_attention_mask, past_key_values, use_cache, output_attentions, output_hidden_states, return_dict)\u001b[0m\n\u001b[1;32m    596\u001b[0m     layer_outputs \u001b[38;5;241m=\u001b[39m \u001b[38;5;28mself\u001b[39m\u001b[38;5;241m.\u001b[39m_gradient_checkpointing_func(\n\u001b[1;32m    597\u001b[0m         layer_module\u001b[38;5;241m.\u001b[39m\u001b[38;5;21m__call__\u001b[39m,\n\u001b[1;32m    598\u001b[0m         hidden_states,\n\u001b[0;32m   (...)\u001b[0m\n\u001b[1;32m    604\u001b[0m         output_attentions,\n\u001b[1;32m    605\u001b[0m     )\n\u001b[1;32m    606\u001b[0m \u001b[38;5;28;01melse\u001b[39;00m:\n\u001b[0;32m--> 607\u001b[0m     layer_outputs \u001b[38;5;241m=\u001b[39m \u001b[43mlayer_module\u001b[49m\u001b[43m(\u001b[49m\n\u001b[1;32m    608\u001b[0m \u001b[43m        \u001b[49m\u001b[43mhidden_states\u001b[49m\u001b[43m,\u001b[49m\n\u001b[1;32m    609\u001b[0m \u001b[43m        \u001b[49m\u001b[43mattention_mask\u001b[49m\u001b[43m,\u001b[49m\n\u001b[1;32m    610\u001b[0m \u001b[43m        \u001b[49m\u001b[43mlayer_head_mask\u001b[49m\u001b[43m,\u001b[49m\n\u001b[1;32m    611\u001b[0m \u001b[43m        \u001b[49m\u001b[43mencoder_hidden_states\u001b[49m\u001b[43m,\u001b[49m\n\u001b[1;32m    612\u001b[0m \u001b[43m        \u001b[49m\u001b[43mencoder_attention_mask\u001b[49m\u001b[43m,\u001b[49m\n\u001b[1;32m    613\u001b[0m \u001b[43m        \u001b[49m\u001b[43mpast_key_value\u001b[49m\u001b[43m,\u001b[49m\n\u001b[1;32m    614\u001b[0m \u001b[43m        \u001b[49m\u001b[43moutput_attentions\u001b[49m\u001b[43m,\u001b[49m\n\u001b[1;32m    615\u001b[0m \u001b[43m    \u001b[49m\u001b[43m)\u001b[49m\n\u001b[1;32m    617\u001b[0m hidden_states \u001b[38;5;241m=\u001b[39m layer_outputs[\u001b[38;5;241m0\u001b[39m]\n\u001b[1;32m    618\u001b[0m \u001b[38;5;28;01mif\u001b[39;00m use_cache:\n",
      "File \u001b[0;32m~/miniconda3/envs/traversal/lib/python3.10/site-packages/torch/nn/modules/module.py:1511\u001b[0m, in \u001b[0;36mModule._wrapped_call_impl\u001b[0;34m(self, *args, **kwargs)\u001b[0m\n\u001b[1;32m   1509\u001b[0m     \u001b[38;5;28;01mreturn\u001b[39;00m \u001b[38;5;28mself\u001b[39m\u001b[38;5;241m.\u001b[39m_compiled_call_impl(\u001b[38;5;241m*\u001b[39margs, \u001b[38;5;241m*\u001b[39m\u001b[38;5;241m*\u001b[39mkwargs)  \u001b[38;5;66;03m# type: ignore[misc]\u001b[39;00m\n\u001b[1;32m   1510\u001b[0m \u001b[38;5;28;01melse\u001b[39;00m:\n\u001b[0;32m-> 1511\u001b[0m     \u001b[38;5;28;01mreturn\u001b[39;00m \u001b[38;5;28;43mself\u001b[39;49m\u001b[38;5;241;43m.\u001b[39;49m\u001b[43m_call_impl\u001b[49m\u001b[43m(\u001b[49m\u001b[38;5;241;43m*\u001b[39;49m\u001b[43margs\u001b[49m\u001b[43m,\u001b[49m\u001b[43m \u001b[49m\u001b[38;5;241;43m*\u001b[39;49m\u001b[38;5;241;43m*\u001b[39;49m\u001b[43mkwargs\u001b[49m\u001b[43m)\u001b[49m\n",
      "File \u001b[0;32m~/miniconda3/envs/traversal/lib/python3.10/site-packages/torch/nn/modules/module.py:1520\u001b[0m, in \u001b[0;36mModule._call_impl\u001b[0;34m(self, *args, **kwargs)\u001b[0m\n\u001b[1;32m   1515\u001b[0m \u001b[38;5;66;03m# If we don't have any hooks, we want to skip the rest of the logic in\u001b[39;00m\n\u001b[1;32m   1516\u001b[0m \u001b[38;5;66;03m# this function, and just call forward.\u001b[39;00m\n\u001b[1;32m   1517\u001b[0m \u001b[38;5;28;01mif\u001b[39;00m \u001b[38;5;129;01mnot\u001b[39;00m (\u001b[38;5;28mself\u001b[39m\u001b[38;5;241m.\u001b[39m_backward_hooks \u001b[38;5;129;01mor\u001b[39;00m \u001b[38;5;28mself\u001b[39m\u001b[38;5;241m.\u001b[39m_backward_pre_hooks \u001b[38;5;129;01mor\u001b[39;00m \u001b[38;5;28mself\u001b[39m\u001b[38;5;241m.\u001b[39m_forward_hooks \u001b[38;5;129;01mor\u001b[39;00m \u001b[38;5;28mself\u001b[39m\u001b[38;5;241m.\u001b[39m_forward_pre_hooks\n\u001b[1;32m   1518\u001b[0m         \u001b[38;5;129;01mor\u001b[39;00m _global_backward_pre_hooks \u001b[38;5;129;01mor\u001b[39;00m _global_backward_hooks\n\u001b[1;32m   1519\u001b[0m         \u001b[38;5;129;01mor\u001b[39;00m _global_forward_hooks \u001b[38;5;129;01mor\u001b[39;00m _global_forward_pre_hooks):\n\u001b[0;32m-> 1520\u001b[0m     \u001b[38;5;28;01mreturn\u001b[39;00m \u001b[43mforward_call\u001b[49m\u001b[43m(\u001b[49m\u001b[38;5;241;43m*\u001b[39;49m\u001b[43margs\u001b[49m\u001b[43m,\u001b[49m\u001b[43m \u001b[49m\u001b[38;5;241;43m*\u001b[39;49m\u001b[38;5;241;43m*\u001b[39;49m\u001b[43mkwargs\u001b[49m\u001b[43m)\u001b[49m\n\u001b[1;32m   1522\u001b[0m \u001b[38;5;28;01mtry\u001b[39;00m:\n\u001b[1;32m   1523\u001b[0m     result \u001b[38;5;241m=\u001b[39m \u001b[38;5;28;01mNone\u001b[39;00m\n",
      "File \u001b[0;32m~/miniconda3/envs/traversal/lib/python3.10/site-packages/transformers/models/bert/modeling_bert.py:539\u001b[0m, in \u001b[0;36mBertLayer.forward\u001b[0;34m(self, hidden_states, attention_mask, head_mask, encoder_hidden_states, encoder_attention_mask, past_key_value, output_attentions)\u001b[0m\n\u001b[1;32m    536\u001b[0m     cross_attn_present_key_value \u001b[38;5;241m=\u001b[39m cross_attention_outputs[\u001b[38;5;241m-\u001b[39m\u001b[38;5;241m1\u001b[39m]\n\u001b[1;32m    537\u001b[0m     present_key_value \u001b[38;5;241m=\u001b[39m present_key_value \u001b[38;5;241m+\u001b[39m cross_attn_present_key_value\n\u001b[0;32m--> 539\u001b[0m layer_output \u001b[38;5;241m=\u001b[39m \u001b[43mapply_chunking_to_forward\u001b[49m\u001b[43m(\u001b[49m\n\u001b[1;32m    540\u001b[0m \u001b[43m    \u001b[49m\u001b[38;5;28;43mself\u001b[39;49m\u001b[38;5;241;43m.\u001b[39;49m\u001b[43mfeed_forward_chunk\u001b[49m\u001b[43m,\u001b[49m\u001b[43m \u001b[49m\u001b[38;5;28;43mself\u001b[39;49m\u001b[38;5;241;43m.\u001b[39;49m\u001b[43mchunk_size_feed_forward\u001b[49m\u001b[43m,\u001b[49m\u001b[43m \u001b[49m\u001b[38;5;28;43mself\u001b[39;49m\u001b[38;5;241;43m.\u001b[39;49m\u001b[43mseq_len_dim\u001b[49m\u001b[43m,\u001b[49m\u001b[43m \u001b[49m\u001b[43mattention_output\u001b[49m\n\u001b[1;32m    541\u001b[0m \u001b[43m\u001b[49m\u001b[43m)\u001b[49m\n\u001b[1;32m    542\u001b[0m outputs \u001b[38;5;241m=\u001b[39m (layer_output,) \u001b[38;5;241m+\u001b[39m outputs\n\u001b[1;32m    544\u001b[0m \u001b[38;5;66;03m# if decoder, return the attn key/values as the last output\u001b[39;00m\n",
      "File \u001b[0;32m~/miniconda3/envs/traversal/lib/python3.10/site-packages/transformers/pytorch_utils.py:236\u001b[0m, in \u001b[0;36mapply_chunking_to_forward\u001b[0;34m(forward_fn, chunk_size, chunk_dim, *input_tensors)\u001b[0m\n\u001b[1;32m    233\u001b[0m     \u001b[38;5;66;03m# concatenate output at same dimension\u001b[39;00m\n\u001b[1;32m    234\u001b[0m     \u001b[38;5;28;01mreturn\u001b[39;00m torch\u001b[38;5;241m.\u001b[39mcat(output_chunks, dim\u001b[38;5;241m=\u001b[39mchunk_dim)\n\u001b[0;32m--> 236\u001b[0m \u001b[38;5;28;01mreturn\u001b[39;00m \u001b[43mforward_fn\u001b[49m\u001b[43m(\u001b[49m\u001b[38;5;241;43m*\u001b[39;49m\u001b[43minput_tensors\u001b[49m\u001b[43m)\u001b[49m\n",
      "File \u001b[0;32m~/miniconda3/envs/traversal/lib/python3.10/site-packages/transformers/models/bert/modeling_bert.py:551\u001b[0m, in \u001b[0;36mBertLayer.feed_forward_chunk\u001b[0;34m(self, attention_output)\u001b[0m\n\u001b[1;32m    550\u001b[0m \u001b[38;5;28;01mdef\u001b[39;00m \u001b[38;5;21mfeed_forward_chunk\u001b[39m(\u001b[38;5;28mself\u001b[39m, attention_output):\n\u001b[0;32m--> 551\u001b[0m     intermediate_output \u001b[38;5;241m=\u001b[39m \u001b[38;5;28;43mself\u001b[39;49m\u001b[38;5;241;43m.\u001b[39;49m\u001b[43mintermediate\u001b[49m\u001b[43m(\u001b[49m\u001b[43mattention_output\u001b[49m\u001b[43m)\u001b[49m\n\u001b[1;32m    552\u001b[0m     layer_output \u001b[38;5;241m=\u001b[39m \u001b[38;5;28mself\u001b[39m\u001b[38;5;241m.\u001b[39moutput(intermediate_output, attention_output)\n\u001b[1;32m    553\u001b[0m     \u001b[38;5;28;01mreturn\u001b[39;00m layer_output\n",
      "File \u001b[0;32m~/miniconda3/envs/traversal/lib/python3.10/site-packages/torch/nn/modules/module.py:1511\u001b[0m, in \u001b[0;36mModule._wrapped_call_impl\u001b[0;34m(self, *args, **kwargs)\u001b[0m\n\u001b[1;32m   1509\u001b[0m     \u001b[38;5;28;01mreturn\u001b[39;00m \u001b[38;5;28mself\u001b[39m\u001b[38;5;241m.\u001b[39m_compiled_call_impl(\u001b[38;5;241m*\u001b[39margs, \u001b[38;5;241m*\u001b[39m\u001b[38;5;241m*\u001b[39mkwargs)  \u001b[38;5;66;03m# type: ignore[misc]\u001b[39;00m\n\u001b[1;32m   1510\u001b[0m \u001b[38;5;28;01melse\u001b[39;00m:\n\u001b[0;32m-> 1511\u001b[0m     \u001b[38;5;28;01mreturn\u001b[39;00m \u001b[38;5;28;43mself\u001b[39;49m\u001b[38;5;241;43m.\u001b[39;49m\u001b[43m_call_impl\u001b[49m\u001b[43m(\u001b[49m\u001b[38;5;241;43m*\u001b[39;49m\u001b[43margs\u001b[49m\u001b[43m,\u001b[49m\u001b[43m \u001b[49m\u001b[38;5;241;43m*\u001b[39;49m\u001b[38;5;241;43m*\u001b[39;49m\u001b[43mkwargs\u001b[49m\u001b[43m)\u001b[49m\n",
      "File \u001b[0;32m~/miniconda3/envs/traversal/lib/python3.10/site-packages/torch/nn/modules/module.py:1520\u001b[0m, in \u001b[0;36mModule._call_impl\u001b[0;34m(self, *args, **kwargs)\u001b[0m\n\u001b[1;32m   1515\u001b[0m \u001b[38;5;66;03m# If we don't have any hooks, we want to skip the rest of the logic in\u001b[39;00m\n\u001b[1;32m   1516\u001b[0m \u001b[38;5;66;03m# this function, and just call forward.\u001b[39;00m\n\u001b[1;32m   1517\u001b[0m \u001b[38;5;28;01mif\u001b[39;00m \u001b[38;5;129;01mnot\u001b[39;00m (\u001b[38;5;28mself\u001b[39m\u001b[38;5;241m.\u001b[39m_backward_hooks \u001b[38;5;129;01mor\u001b[39;00m \u001b[38;5;28mself\u001b[39m\u001b[38;5;241m.\u001b[39m_backward_pre_hooks \u001b[38;5;129;01mor\u001b[39;00m \u001b[38;5;28mself\u001b[39m\u001b[38;5;241m.\u001b[39m_forward_hooks \u001b[38;5;129;01mor\u001b[39;00m \u001b[38;5;28mself\u001b[39m\u001b[38;5;241m.\u001b[39m_forward_pre_hooks\n\u001b[1;32m   1518\u001b[0m         \u001b[38;5;129;01mor\u001b[39;00m _global_backward_pre_hooks \u001b[38;5;129;01mor\u001b[39;00m _global_backward_hooks\n\u001b[1;32m   1519\u001b[0m         \u001b[38;5;129;01mor\u001b[39;00m _global_forward_hooks \u001b[38;5;129;01mor\u001b[39;00m _global_forward_pre_hooks):\n\u001b[0;32m-> 1520\u001b[0m     \u001b[38;5;28;01mreturn\u001b[39;00m \u001b[43mforward_call\u001b[49m\u001b[43m(\u001b[49m\u001b[38;5;241;43m*\u001b[39;49m\u001b[43margs\u001b[49m\u001b[43m,\u001b[49m\u001b[43m \u001b[49m\u001b[38;5;241;43m*\u001b[39;49m\u001b[38;5;241;43m*\u001b[39;49m\u001b[43mkwargs\u001b[49m\u001b[43m)\u001b[49m\n\u001b[1;32m   1522\u001b[0m \u001b[38;5;28;01mtry\u001b[39;00m:\n\u001b[1;32m   1523\u001b[0m     result \u001b[38;5;241m=\u001b[39m \u001b[38;5;28;01mNone\u001b[39;00m\n",
      "File \u001b[0;32m~/miniconda3/envs/traversal/lib/python3.10/site-packages/transformers/models/bert/modeling_bert.py:451\u001b[0m, in \u001b[0;36mBertIntermediate.forward\u001b[0;34m(self, hidden_states)\u001b[0m\n\u001b[1;32m    450\u001b[0m \u001b[38;5;28;01mdef\u001b[39;00m \u001b[38;5;21mforward\u001b[39m(\u001b[38;5;28mself\u001b[39m, hidden_states: torch\u001b[38;5;241m.\u001b[39mTensor) \u001b[38;5;241m-\u001b[39m\u001b[38;5;241m>\u001b[39m torch\u001b[38;5;241m.\u001b[39mTensor:\n\u001b[0;32m--> 451\u001b[0m     hidden_states \u001b[38;5;241m=\u001b[39m \u001b[38;5;28;43mself\u001b[39;49m\u001b[38;5;241;43m.\u001b[39;49m\u001b[43mdense\u001b[49m\u001b[43m(\u001b[49m\u001b[43mhidden_states\u001b[49m\u001b[43m)\u001b[49m\n\u001b[1;32m    452\u001b[0m     hidden_states \u001b[38;5;241m=\u001b[39m \u001b[38;5;28mself\u001b[39m\u001b[38;5;241m.\u001b[39mintermediate_act_fn(hidden_states)\n\u001b[1;32m    453\u001b[0m     \u001b[38;5;28;01mreturn\u001b[39;00m hidden_states\n",
      "File \u001b[0;32m~/miniconda3/envs/traversal/lib/python3.10/site-packages/torch/nn/modules/module.py:1511\u001b[0m, in \u001b[0;36mModule._wrapped_call_impl\u001b[0;34m(self, *args, **kwargs)\u001b[0m\n\u001b[1;32m   1509\u001b[0m     \u001b[38;5;28;01mreturn\u001b[39;00m \u001b[38;5;28mself\u001b[39m\u001b[38;5;241m.\u001b[39m_compiled_call_impl(\u001b[38;5;241m*\u001b[39margs, \u001b[38;5;241m*\u001b[39m\u001b[38;5;241m*\u001b[39mkwargs)  \u001b[38;5;66;03m# type: ignore[misc]\u001b[39;00m\n\u001b[1;32m   1510\u001b[0m \u001b[38;5;28;01melse\u001b[39;00m:\n\u001b[0;32m-> 1511\u001b[0m     \u001b[38;5;28;01mreturn\u001b[39;00m \u001b[38;5;28;43mself\u001b[39;49m\u001b[38;5;241;43m.\u001b[39;49m\u001b[43m_call_impl\u001b[49m\u001b[43m(\u001b[49m\u001b[38;5;241;43m*\u001b[39;49m\u001b[43margs\u001b[49m\u001b[43m,\u001b[49m\u001b[43m \u001b[49m\u001b[38;5;241;43m*\u001b[39;49m\u001b[38;5;241;43m*\u001b[39;49m\u001b[43mkwargs\u001b[49m\u001b[43m)\u001b[49m\n",
      "File \u001b[0;32m~/miniconda3/envs/traversal/lib/python3.10/site-packages/torch/nn/modules/module.py:1520\u001b[0m, in \u001b[0;36mModule._call_impl\u001b[0;34m(self, *args, **kwargs)\u001b[0m\n\u001b[1;32m   1515\u001b[0m \u001b[38;5;66;03m# If we don't have any hooks, we want to skip the rest of the logic in\u001b[39;00m\n\u001b[1;32m   1516\u001b[0m \u001b[38;5;66;03m# this function, and just call forward.\u001b[39;00m\n\u001b[1;32m   1517\u001b[0m \u001b[38;5;28;01mif\u001b[39;00m \u001b[38;5;129;01mnot\u001b[39;00m (\u001b[38;5;28mself\u001b[39m\u001b[38;5;241m.\u001b[39m_backward_hooks \u001b[38;5;129;01mor\u001b[39;00m \u001b[38;5;28mself\u001b[39m\u001b[38;5;241m.\u001b[39m_backward_pre_hooks \u001b[38;5;129;01mor\u001b[39;00m \u001b[38;5;28mself\u001b[39m\u001b[38;5;241m.\u001b[39m_forward_hooks \u001b[38;5;129;01mor\u001b[39;00m \u001b[38;5;28mself\u001b[39m\u001b[38;5;241m.\u001b[39m_forward_pre_hooks\n\u001b[1;32m   1518\u001b[0m         \u001b[38;5;129;01mor\u001b[39;00m _global_backward_pre_hooks \u001b[38;5;129;01mor\u001b[39;00m _global_backward_hooks\n\u001b[1;32m   1519\u001b[0m         \u001b[38;5;129;01mor\u001b[39;00m _global_forward_hooks \u001b[38;5;129;01mor\u001b[39;00m _global_forward_pre_hooks):\n\u001b[0;32m-> 1520\u001b[0m     \u001b[38;5;28;01mreturn\u001b[39;00m \u001b[43mforward_call\u001b[49m\u001b[43m(\u001b[49m\u001b[38;5;241;43m*\u001b[39;49m\u001b[43margs\u001b[49m\u001b[43m,\u001b[49m\u001b[43m \u001b[49m\u001b[38;5;241;43m*\u001b[39;49m\u001b[38;5;241;43m*\u001b[39;49m\u001b[43mkwargs\u001b[49m\u001b[43m)\u001b[49m\n\u001b[1;32m   1522\u001b[0m \u001b[38;5;28;01mtry\u001b[39;00m:\n\u001b[1;32m   1523\u001b[0m     result \u001b[38;5;241m=\u001b[39m \u001b[38;5;28;01mNone\u001b[39;00m\n",
      "File \u001b[0;32m~/miniconda3/envs/traversal/lib/python3.10/site-packages/torch/nn/modules/linear.py:116\u001b[0m, in \u001b[0;36mLinear.forward\u001b[0;34m(self, input)\u001b[0m\n\u001b[1;32m    115\u001b[0m \u001b[38;5;28;01mdef\u001b[39;00m \u001b[38;5;21mforward\u001b[39m(\u001b[38;5;28mself\u001b[39m, \u001b[38;5;28minput\u001b[39m: Tensor) \u001b[38;5;241m-\u001b[39m\u001b[38;5;241m>\u001b[39m Tensor:\n\u001b[0;32m--> 116\u001b[0m     \u001b[38;5;28;01mreturn\u001b[39;00m \u001b[43mF\u001b[49m\u001b[38;5;241;43m.\u001b[39;49m\u001b[43mlinear\u001b[49m\u001b[43m(\u001b[49m\u001b[38;5;28;43minput\u001b[39;49m\u001b[43m,\u001b[49m\u001b[43m \u001b[49m\u001b[38;5;28;43mself\u001b[39;49m\u001b[38;5;241;43m.\u001b[39;49m\u001b[43mweight\u001b[49m\u001b[43m,\u001b[49m\u001b[43m \u001b[49m\u001b[38;5;28;43mself\u001b[39;49m\u001b[38;5;241;43m.\u001b[39;49m\u001b[43mbias\u001b[49m\u001b[43m)\u001b[49m\n",
      "\u001b[0;31mKeyboardInterrupt\u001b[0m: "
     ]
    }
   ],
   "source": [
    "# index creation \n",
    "\n",
    "url = QDRANT_URL\n",
    "api_key = QDRANT_API_KEY\n",
    "qdrant = Qdrant.from_documents(\n",
    "    data, #document type suppported by langchain\n",
    "    embeddings, #hf embeddings\n",
    "    url=url, #url for qdrant index\n",
    "    prefer_grpc=True,\n",
    "    api_key=api_key,\n",
    "    collection_name=VECTOR_DB_COLLECTION,\n",
    "    force_recreate=True\n",
    ")"
   ]
  },
  {
   "cell_type": "code",
   "execution_count": 14,
   "metadata": {},
   "outputs": [],
   "source": [
    "query = \"describe Romance Istanbul Hotel\"\n",
    "found_docs = qdrant.similarity_search(query)"
   ]
  },
  {
   "cell_type": "code",
   "execution_count": 15,
   "metadata": {},
   "outputs": [
    {
     "data": {
      "text/plain": [
       "Document(page_content='hotel_name: Romance Istanbul Hotel\\nhotel_description: Romance Istanbul Hotel has 39 rooms.Every room is elegantly furnished and harmonizes the modern life style with the traditional Ottoman touch. Romance Istanbul sits at the intersection of the old city’s most important part. With its luxuriously inspiring design and landmark old city location, steeped in the history of its surroundings, Romance Istanbul Hotel welcomes you with exceptional designed rooms and world-renowned Turkish hospitality. Our colleagues deliver the most personal service. It is perfectly placed and perfectly designed to enhance all that Istanbul has to offer. Each room offers a private bathroom and shower. Each is equipped with a satellite TV and free wifi connection. The rooms size change between 20 m2 and 45 m2. It includes 7 suite rooms: 1 Royal Suite, 4 Grand Suite, 1 Romance Suite and 1 Premium Suite, 2 Luxury Room With Terrace, 22 Deluxe Room, 8 City Room.\\nreview_title: Very nice visit to Turkey\\nreview_text: The hotel was in a great location for the palace and blocks away from the bazaar’s. Coffee down the street along with taxi drop off and pick up. Staff was friendly and welcoming. Free welcome drink and snack. Decoration is nice and homey. Highly recommend.\\nrate: 5.0\\ntripdate: January 2024\\nhotel_url: https://www.tripadvisor.com/Hotel_Review-g293974-d8364987-Reviews-or10-Romance_Istanbul_Hotel-Istanbul.html\\nhotel_image: https://media-cdn.tripadvisor.com/media/photo-s/1c/02/78/ba/romance-istanbul-hotel.jpg\\nprice_range: $ (Based on Average Nightly Rates for a Standard Room from our Partners)\\nrating_value: 5.0\\nreview_count: 4023\\nstreet_address: Hudavendigar Cd. No:5 Sirkeci\\nlocality: Istanbul\\ncountry: Turkiye', metadata={'row': 19, 'source': 'hotels-dataset.csv', '_id': '2a1de689-56b2-447e-9251-a3cb248fdf5b', '_collection_name': 'traversal'})"
      ]
     },
     "execution_count": 15,
     "metadata": {},
     "output_type": "execute_result"
    }
   ],
   "source": [
    "found_docs[0]"
   ]
  },
  {
   "cell_type": "code",
   "execution_count": 16,
   "metadata": {},
   "outputs": [
    {
     "name": "stdout",
     "output_type": "stream",
     "text": [
      "hotel_name: Romance Istanbul Hotel\n",
      "hotel_description: Romance Istanbul Hotel has 39 rooms.Every room is elegantly furnished and harmonizes the modern life style with the traditional Ottoman touch. Romance Istanbul sits at the intersection of the old city’s most important part. With its luxuriously inspiring design and landmark old city location, steeped in the history of its surroundings, Romance Istanbul Hotel welcomes you with exceptional designed rooms and world-renowned Turkish hospitality. Our colleagues deliver the most personal service. It is perfectly placed and perfectly designed to enhance all that Istanbul has to offer. Each room offers a private bathroom and shower. Each is equipped with a satellite TV and free wifi connection. The rooms size change between 20 m2 and 45 m2. It includes 7 suite rooms: 1 Royal Suite, 4 Grand Suite, 1 Romance Suite and 1 Premium Suite, 2 Luxury Room With Terrace, 22 Deluxe Room, 8 City Room.\n",
      "review_title: Very nice visit to Turkey\n",
      "review_text: The hotel was in a great location for the palace and blocks away from the bazaar’s. Coffee down the street along with taxi drop off and pick up. Staff was friendly and welcoming. Free welcome drink and snack. Decoration is nice and homey. Highly recommend.\n",
      "rate: 5.0\n",
      "tripdate: January 2024\n",
      "hotel_url: https://www.tripadvisor.com/Hotel_Review-g293974-d8364987-Reviews-or10-Romance_Istanbul_Hotel-Istanbul.html\n",
      "hotel_image: https://media-cdn.tripadvisor.com/media/photo-s/1c/02/78/ba/romance-istanbul-hotel.jpg\n",
      "price_range: $ (Based on Average Nightly Rates for a Standard Room from our Partners)\n",
      "rating_value: 5.0\n",
      "review_count: 4023\n",
      "street_address: Hudavendigar Cd. No:5 Sirkeci\n",
      "locality: Istanbul\n",
      "country: Turkiye\n"
     ]
    }
   ],
   "source": [
    "print(found_docs[0].page_content)"
   ]
  },
  {
   "cell_type": "code",
   "execution_count": 17,
   "metadata": {},
   "outputs": [
    {
     "name": "stdout",
     "output_type": "stream",
     "text": [
      "hotel_name: Conrad Istanbul Bosphorus\n",
      "hotel_description: Boasting a perfect location between 2 continents, indulge in a stay at Conrad Istanbul Bosphorus and discover yourself at one of the world's most alluring destinations. At the very centre of the city, yet far away from the hustle and bustle, Conrad Istanbul Bosphorus's rooms and suites allow for the highest standard of relaxation, complete with personalised comfort and services. Savor Mediterranean cuisine at Manzara, take in the view of the Bosphorus while lounging at the Summit Bar. Relax with Spa treatments, enjoy a revitalizing workout in the brand-new health club and clay tennis courts.\n",
      "review_title: Best trip\n",
      "review_text: Amazing!!!!! Good view and good stay! Very Good location!! Good food, excellent BED!!  In the room have a lot of space and it is very nice. I really love to come back and recommend to my friends and followers of course. Thank you for the hospitality Selim :)\n",
      "rate: 5.0\n",
      "tripdate: January 2024\n",
      "hotel_url: https://www.tripadvisor.com/Hotel_Review-g293974-d294658-Reviews-Conrad_Istanbul_Bosphorus-Istanbul.html\n",
      "hotel_image: https://media-cdn.tripadvisor.com/media/photo-s/2a/fe/53/c3/exterior.jpg\n",
      "price_range: $ (Based on Average Nightly Rates for a Standard Room from our Partners)\n",
      "rating_value: 4.5\n",
      "review_count: 8558\n",
      "street_address: Saray Cd No: 5 Cihannuma Mah.\n",
      "locality: Istanbul\n",
      "country: Turkiye\n"
     ]
    }
   ],
   "source": [
    "query = \"best reviews for Conrad Istanbul Bosphorus\"\n",
    "found_docs = qdrant.similarity_search(query)\n",
    "print(found_docs[0].page_content)"
   ]
  },
  {
   "cell_type": "markdown",
   "metadata": {},
   "source": [
    "## Starting querying"
   ]
  },
  {
   "cell_type": "code",
   "execution_count": 18,
   "metadata": {},
   "outputs": [
    {
     "data": {
      "text/plain": [
       "{'hotel_name': 'Romance Istanbul Hotel',\n",
       " 'hotel_description': 'Romance Istanbul Hotel has 39 rooms.Every room is elegantly furnished and harmonizes the modern life style with the traditional Ottoman touch. Romance Istanbul sits at the intersection of the old city’s most important part. With its luxuriously inspiring design and landmark old city location, steeped in the history of its surroundings, Romance Istanbul Hotel welcomes you with exceptional designed rooms and world-renowned Turkish hospitality. Our colleagues deliver the most personal service. It is perfectly placed and perfectly designed to enhance all that Istanbul has to offer. Each room offers a private bathroom and shower. Each is equipped with a satellite TV and free wifi connection. The rooms size change between 20 m2 and 45 m2. It includes 7 suite rooms: 1 Royal Suite, 4 Grand Suite, 1 Romance Suite and 1 Premium Suite, 2 Luxury Room With Terrace, 22 Deluxe Room, 8 City Room.',\n",
       " 'review_title': 'An exceptional boutique hotel, great value for your money',\n",
       " 'review_text': None,\n",
       " 'rate': None,\n",
       " 'tripdate': ' February 2020',\n",
       " 'hotel_url': 'https://www.tripadvisor.com/Hotel_Review-g293974-d8364987-Reviews-Romance_Istanbul_Hotel-Istanbul.html',\n",
       " 'hotel_image': 'https://media-cdn.tripadvisor.com/media/photo-s/1c/02/78/ba/romance-istanbul-hotel.jpg',\n",
       " 'price_range': '$ (Based on Average Nightly Rates for a Standard Room from our Partners)',\n",
       " 'rating_value': 5.0,\n",
       " 'review_count': 4023,\n",
       " 'street_address': 'Hudavendigar Cd. No:5 Sirkeci',\n",
       " 'locality': 'Istanbul',\n",
       " 'country': 'Turkiye'}"
      ]
     },
     "execution_count": 18,
     "metadata": {},
     "output_type": "execute_result"
    }
   ],
   "source": [
    "dataset['train'][0]"
   ]
  },
  {
   "cell_type": "code",
   "execution_count": 19,
   "metadata": {},
   "outputs": [
    {
     "data": {
      "text/plain": [
       "[Document(page_content='hotel_name: Romance Istanbul Hotel\\nhotel_description: Romance Istanbul Hotel has 39 rooms.Every room is elegantly furnished and harmonizes the modern life style with the traditional Ottoman touch. Romance Istanbul sits at the intersection of the old city’s most important part. With its luxuriously inspiring design and landmark old city location, steeped in the history of its surroundings, Romance Istanbul Hotel welcomes you with exceptional designed rooms and world-renowned Turkish hospitality. Our colleagues deliver the most personal service. It is perfectly placed and perfectly designed to enhance all that Istanbul has to offer. Each room offers a private bathroom and shower. Each is equipped with a satellite TV and free wifi connection. The rooms size change between 20 m2 and 45 m2. It includes 7 suite rooms: 1 Royal Suite, 4 Grand Suite, 1 Romance Suite and 1 Premium Suite, 2 Luxury Room With Terrace, 22 Deluxe Room, 8 City Room.\\nreview_title: Very nice visit to Turkey\\nreview_text: The hotel was in a great location for the palace and blocks away from the bazaar’s. Coffee down the street along with taxi drop off and pick up. Staff was friendly and welcoming. Free welcome drink and snack. Decoration is nice and homey. Highly recommend.\\nrate: 5.0\\ntripdate: January 2024\\nhotel_url: https://www.tripadvisor.com/Hotel_Review-g293974-d8364987-Reviews-or10-Romance_Istanbul_Hotel-Istanbul.html\\nhotel_image: https://media-cdn.tripadvisor.com/media/photo-s/1c/02/78/ba/romance-istanbul-hotel.jpg\\nprice_range: $ (Based on Average Nightly Rates for a Standard Room from our Partners)\\nrating_value: 5.0\\nreview_count: 4023\\nstreet_address: Hudavendigar Cd. No:5 Sirkeci\\nlocality: Istanbul\\ncountry: Turkiye', metadata={'row': 19, 'source': 'hotels-dataset.csv', '_id': '2a1de689-56b2-447e-9251-a3cb248fdf5b', '_collection_name': 'traversal'}),\n",
       " Document(page_content='hotel_name: Romance Istanbul Hotel\\nhotel_description: Romance Istanbul Hotel has 39 rooms.Every room is elegantly furnished and harmonizes the modern life style with the traditional Ottoman touch. Romance Istanbul sits at the intersection of the old city’s most important part. With its luxuriously inspiring design and landmark old city location, steeped in the history of its surroundings, Romance Istanbul Hotel welcomes you with exceptional designed rooms and world-renowned Turkish hospitality. Our colleagues deliver the most personal service. It is perfectly placed and perfectly designed to enhance all that Istanbul has to offer. Each room offers a private bathroom and shower. Each is equipped with a satellite TV and free wifi connection. The rooms size change between 20 m2 and 45 m2. It includes 7 suite rooms: 1 Royal Suite, 4 Grand Suite, 1 Romance Suite and 1 Premium Suite, 2 Luxury Room With Terrace, 22 Deluxe Room, 8 City Room.\\nreview_title: Great stay in Osman atmosphere\\nreview_text: Our stay was amazing. Rooms are clean. Staff is friendly and helpful in any questions. Recommend it to couples for unforgettable memories. Breakfasts were delicious and variety is amazing. Thank you Romance hotel, be back for sure☺️☺️☺️☺️☺️☺️\\nrate: 5.0\\ntripdate: January 2024\\nhotel_url: https://www.tripadvisor.com/Hotel_Review-g293974-d8364987-Reviews-or10-Romance_Istanbul_Hotel-Istanbul.html\\nhotel_image: https://media-cdn.tripadvisor.com/media/photo-s/1c/02/78/ba/romance-istanbul-hotel.jpg\\nprice_range: $ (Based on Average Nightly Rates for a Standard Room from our Partners)\\nrating_value: 5.0\\nreview_count: 4023\\nstreet_address: Hudavendigar Cd. No:5 Sirkeci\\nlocality: Istanbul\\ncountry: Turkiye', metadata={'row': 12, 'source': 'hotels-dataset.csv', '_id': '747c6746-62ba-4929-9b92-ea9b54a80250', '_collection_name': 'traversal'}),\n",
       " Document(page_content='hotel_name: Romance Istanbul Hotel\\nhotel_description: Romance Istanbul Hotel has 39 rooms.Every room is elegantly furnished and harmonizes the modern life style with the traditional Ottoman touch. Romance Istanbul sits at the intersection of the old city’s most important part. With its luxuriously inspiring design and landmark old city location, steeped in the history of its surroundings, Romance Istanbul Hotel welcomes you with exceptional designed rooms and world-renowned Turkish hospitality. Our colleagues deliver the most personal service. It is perfectly placed and perfectly designed to enhance all that Istanbul has to offer. Each room offers a private bathroom and shower. Each is equipped with a satellite TV and free wifi connection. The rooms size change between 20 m2 and 45 m2. It includes 7 suite rooms: 1 Royal Suite, 4 Grand Suite, 1 Romance Suite and 1 Premium Suite, 2 Luxury Room With Terrace, 22 Deluxe Room, 8 City Room.\\nreview_title: Superb Hotel\\nreview_text: Beautifully turkish styled hotel and room. Extremely helpful and attentive staff.   Superb location for mosques, palace, and main bazaar.  Good 4 star quality breakfast.  Really good to stay in a non chain hotel, to get the real flavour of Istanbul.\\nrate: 5.0\\ntripdate: January 2024\\nhotel_url: https://www.tripadvisor.com/Hotel_Review-g293974-d8364987-Reviews-or20-Romance_Istanbul_Hotel-Istanbul.html\\nhotel_image: https://media-cdn.tripadvisor.com/media/photo-s/1c/02/78/ba/romance-istanbul-hotel.jpg\\nprice_range: $ (Based on Average Nightly Rates for a Standard Room from our Partners)\\nrating_value: 5.0\\nreview_count: 4023\\nstreet_address: Hudavendigar Cd. No:5 Sirkeci\\nlocality: Istanbul\\ncountry: Turkiye', metadata={'row': 22, 'source': 'hotels-dataset.csv', '_id': '750829e3-1cc6-4bff-a30c-0e41aa995084', '_collection_name': 'traversal'}),\n",
       " Document(page_content=\"hotel_name: Romance Istanbul Hotel\\nhotel_description: Romance Istanbul Hotel has 39 rooms.Every room is elegantly furnished and harmonizes the modern life style with the traditional Ottoman touch. Romance Istanbul sits at the intersection of the old city’s most important part. With its luxuriously inspiring design and landmark old city location, steeped in the history of its surroundings, Romance Istanbul Hotel welcomes you with exceptional designed rooms and world-renowned Turkish hospitality. Our colleagues deliver the most personal service. It is perfectly placed and perfectly designed to enhance all that Istanbul has to offer. Each room offers a private bathroom and shower. Each is equipped with a satellite TV and free wifi connection. The rooms size change between 20 m2 and 45 m2. It includes 7 suite rooms: 1 Royal Suite, 4 Grand Suite, 1 Romance Suite and 1 Premium Suite, 2 Luxury Room With Terrace, 22 Deluxe Room, 8 City Room.\\nreview_title: Experience\\nreview_text: Great location very close to hagia sophia and toptaki palace, very helpful staff. Helped us with curating our stay, booking cruise . Breakfast was nice. We didn't have diiner but they have great sister hotel\\nrate: 5.0\\ntripdate: January 2024\\nhotel_url: https://www.tripadvisor.com/Hotel_Review-g293974-d8364987-Reviews-or30-Romance_Istanbul_Hotel-Istanbul.html\\nhotel_image: https://media-cdn.tripadvisor.com/media/photo-s/1c/02/78/ba/romance-istanbul-hotel.jpg\\nprice_range: $ (Based on Average Nightly Rates for a Standard Room from our Partners)\\nrating_value: 5.0\\nreview_count: 4023\\nstreet_address: Hudavendigar Cd. No:5 Sirkeci\\nlocality: Istanbul\\ncountry: Turkiye\", metadata={'source': 'hotels-dataset.csv', 'row': 39, '_id': '7f43f294-88c2-44fb-abd7-19155b5021b4', '_collection_name': 'traversal'})]"
      ]
     },
     "execution_count": 19,
     "metadata": {},
     "output_type": "execute_result"
    }
   ],
   "source": [
    "query = 'hey can you tell me something about Romance Istanbul Hotel'\n",
    "found_docs = qdrant.similarity_search(query)\n",
    "found_docs"
   ]
  },
  {
   "cell_type": "code",
   "execution_count": null,
   "metadata": {},
   "outputs": [],
   "source": []
  },
  {
   "cell_type": "code",
   "execution_count": 50,
   "metadata": {},
   "outputs": [],
   "source": [
    "from langchain.chains.combine_documents import create_stuff_documents_chain\n",
    "from langchain_core.prompts import ChatPromptTemplate, MessagesPlaceholder\n",
    "from langchain_core.messages import HumanMessage,AIMessage\n",
    "from langchain.memory import ChatMessageHistory\n",
    "from langchain_openai import OpenAIEmbeddings\n",
    "from langchain_openai import ChatOpenAI\n",
    "\n",
    "chat = ChatOpenAI(model=\"gpt-3.5-turbo-1106\",api_key = OPENAI_API_KEY)\n",
    "\n",
    "question_answering_prompt = ChatPromptTemplate.from_messages(\n",
    "    [\n",
    "        (\n",
    "            \"system\",\n",
    "            \"Answer the user's questions based on the below context:\\n\\n{context} remember that you are awesome hotel advisor\",\n",
    "        ),\n",
    "        MessagesPlaceholder(variable_name=\"messages\"),\n",
    "    ]\n",
    ")\n",
    "\n",
    "document_chain = create_stuff_documents_chain(chat, question_answering_prompt)"
   ]
  },
  {
   "cell_type": "code",
   "execution_count": 51,
   "metadata": {},
   "outputs": [],
   "source": [
    "query = 'can you pls share something about romance istanbul hotel and what are it\\'s reviews and ratings'\n",
    "\n",
    "#fetch only docs that are above 75%similarity search result\n",
    "docs = qdrant.similarity_search(query,k=5,score_threshold=0.75)"
   ]
  },
  {
   "cell_type": "code",
   "execution_count": null,
   "metadata": {},
   "outputs": [],
   "source": []
  },
  {
   "cell_type": "code",
   "execution_count": 52,
   "metadata": {},
   "outputs": [],
   "source": [
    "from langchain.memory import ChatMessageHistory\n",
    "\n",
    "demo_ephemeral_chat_history = ChatMessageHistory()\n",
    "\n",
    "demo_ephemeral_chat_history.add_user_message(query)\n",
    "\n",
    "result = document_chain.invoke(\n",
    "    {\n",
    "        \"messages\": demo_ephemeral_chat_history.messages,\n",
    "        \"context\": docs,\n",
    "    }\n",
    ")"
   ]
  },
  {
   "cell_type": "code",
   "execution_count": 53,
   "metadata": {},
   "outputs": [
    {
     "data": {
      "text/plain": [
       "'Romance Istanbul Hotel is a luxurious hotel with 39 elegantly furnished rooms that harmonize modern lifestyle with a traditional Ottoman touch. It is situated at the intersection of the old city’s most important part, making it an ideal location for exploring Istanbul\\'s landmarks.\\n\\nThe hotel offers exceptional designed rooms with a private bathroom and shower, satellite TV, and free wifi connection. The room sizes vary between 20 m2 and 45 m2, and there are different types of suites and rooms available, including Royal Suite, Grand Suite, Romance Suite, Premium Suite, Luxury Room With Terrace, Deluxe Room, and City Room.\\n\\nWith a perfect blend of design and Turkish hospitality, Romance Istanbul Hotel has received glowing reviews from guests. The average rating is 5.0, and there are over 4023 reviews praising the hotel\\'s exceptional service and ambiance.\\n\\nHere are some review highlights:\\n- \"Great stay in Osman atmosphere\" - Guests loved the clean rooms, friendly staff, and delicious breakfasts.\\n- \"Superb Hotel\" - Visitors appreciated the Turkish styled rooms, helpful staff, and the hotel\\'s location close to major attractions.\\n- \"Very nice visit to Turkey\" - Guests highlighted the hotel\\'s great location, friendly staff, and homey decoration.\\n- \"Glorious stay!\" - Guests praised the accommodating and friendly staff, smooth check-in process, and excellent location.\\n\\nYou can check out more reviews and details of the hotel on their TripAdvisor page: [Romance Istanbul Hotel TripAdvisor](https://www.tripadvisor.com/Hotel_Review-g293974-d8364987-Reviews-Romance_Istanbul_Hotel-Istanbul.html)'"
      ]
     },
     "execution_count": 53,
     "metadata": {},
     "output_type": "execute_result"
    }
   ],
   "source": [
    "result"
   ]
  },
  {
   "cell_type": "markdown",
   "metadata": {},
   "source": [
    "#### So we have a basic chat interface ready that works as a RAG"
   ]
  },
  {
   "cell_type": "code",
   "execution_count": null,
   "metadata": {},
   "outputs": [],
   "source": []
  },
  {
   "cell_type": "markdown",
   "metadata": {},
   "source": [
    "## Reasin why we need to improve"
   ]
  },
  {
   "cell_type": "code",
   "execution_count": 24,
   "metadata": {},
   "outputs": [
    {
     "name": "stdout",
     "output_type": "stream",
     "text": [
      "page_content=\"hotel_name: Crowne Plaza Times Square Manhattan, an IHG Hotel\\nhotel_description: Nestled in the heart of Midtown, our hotel puts you directly on Broadway between 48th and 49th Streets at the doorstep of Times Square. Stay steps from the greatest musical theater in the world, surrounded by iconic New York landmarks, top Fortune 500 companies, and the city's best shopping. Perfecting the art of blended travel, our hotel puts you blocks from Central Park, Rockefeller Center, and Radio City Music Hall. When you're not exploring or heading to a meeting, unwind in spacious rooms with all the essentials, including workspaces.  Relax, take in the city, and leave the details to us.\\nreview_title: THEY DID NOT REFUND MY SECURITY DEPOSIT !\\nreview_text: They did return my security deposit .They charged us 50 dollars per night !   Charged on 4th october till 9th October . I stayed 5 nights under the name Raafay Israr & Mahnoor Fayyaz . Its been over a month now . Need to resolve this asap ! My email address  Mahnoorf@hotmail.com.\\nrate: 1.0\\ntripdate: October 2023\\nhotel_url: https://www.tripadvisor.com/Hotel_Review-g60763-d93454-Reviews-or30-Crowne_Plaza_Times_Square_Manhattan_an_IHG_Hotel-New_York_City_New_York.html\\nhotel_image: https://media-cdn.tripadvisor.com/media/photo-s/2b/01/82/56/the-crowne-plaza-times.jpg\\nprice_range: $$ (Based on Average Nightly Rates for a Standard Room from our Partners)\\nrating_value: 4.0\\nreview_count: 12188\\nstreet_address: 1605 Broadway\\nlocality: New York City\\ncountry: United States\" metadata={'row': 4631, 'source': 'hotels-dataset.csv', '_id': '440b140a-df04-496b-884e-8044f0ac042e', '_collection_name': 'traversal'} \n",
      "\n"
     ]
    }
   ],
   "source": [
    "query = 'hey anything near Hudavendigar Cd. number 5' #there is no mention of romance istabul hotel even though we have specifically mentioned address \n",
    "## of that hotel\n",
    "found_docs = qdrant.similarity_search(query,k=15)\n",
    "for i in found_docs:\n",
    "    print(i,'\\n')\n",
    "    break #remove the break to see complete results"
   ]
  },
  {
   "cell_type": "markdown",
   "metadata": {},
   "source": [
    "### So the moment we tilted a query by a bit we see a dip in results although it's for one query "
   ]
  },
  {
   "cell_type": "markdown",
   "metadata": {},
   "source": [
    "## Phase-2"
   ]
  },
  {
   "cell_type": "markdown",
   "metadata": {},
   "source": [
    "## connecting ares api"
   ]
  },
  {
   "cell_type": "code",
   "execution_count": 30,
   "metadata": {},
   "outputs": [
    {
     "data": {
      "text/plain": [
       "'ares_adcdf99a238a2b1fc07252165453956ba2ed27e58c290903f6e5030f5c00058d'"
      ]
     },
     "execution_count": 30,
     "metadata": {},
     "output_type": "execute_result"
    }
   ],
   "source": [
    "#not saving this key in .env because these jeys are not relaible\n",
    "ares_api = \"ares_adcdf99a238a2b1fc07252165453956ba2ed27e58c290903f6e5030f5c00058d\"\n",
    "ares_api"
   ]
  },
  {
   "cell_type": "code",
   "execution_count": 54,
   "metadata": {},
   "outputs": [],
   "source": [
    "\n",
    "demo_ephemeral_chat_history.add_user_message('any image sof the hotel?')\n",
    "\n",
    "result = document_chain.invoke(\n",
    "    {\n",
    "        \"messages\": demo_ephemeral_chat_history.messages,\n",
    "        \"context\": docs,\n",
    "    }\n",
    ")"
   ]
  },
  {
   "cell_type": "code",
   "execution_count": 55,
   "metadata": {},
   "outputs": [
    {
     "data": {
      "text/plain": [
       "\"Romance Istanbul Hotel is a stylish and elegantly furnished hotel located at the intersection of Istanbul's most important old city area. It's known for its exceptional design, Turkish hospitality, and personal service. The hotel has 39 rooms, each equipped with a private bathroom, shower, satellite TV, and free wifi. The room size ranges from 20 m2 to 45 m2, and it includes various suite rooms and luxury room options.\\n\\nThe hotel has received excellent reviews, with guests praising the clean rooms, friendly and helpful staff, delicious breakfast, superb location, and the overall experience of staying at the hotel. The average rating value is 5.0, and there are 4023 reviews available.\\n\\nYou can find an image of the hotel on its TripAdvisor page: [Romance Istanbul Hotel](https://media-cdn.tripadvisor.com/media/photo-s/1c/02/78/ba/romance-istanbul-hotel.jpg)\\n\\nFeel free to reach out if you have more questions!\""
      ]
     },
     "execution_count": 55,
     "metadata": {},
     "output_type": "execute_result"
    }
   ],
   "source": [
    "result"
   ]
  },
  {
   "cell_type": "code",
   "execution_count": 42,
   "metadata": {},
   "outputs": [
    {
     "name": "stderr",
     "output_type": "stream",
     "text": [
      "huggingface/tokenizers: The current process just got forked, after parallelism has already been used. Disabling parallelism to avoid deadlocks...\n",
      "To disable this warning, you can either:\n",
      "\t- Avoid using `tokenizers` before the fork if possible\n",
      "\t- Explicitly set the environment variable TOKENIZERS_PARALLELISM=(true | false)\n"
     ]
    }
   ],
   "source": [
    "# %%capture\n",
    "# !pip install outlines #install this library for structured output"
   ]
  },
  {
   "cell_type": "code",
   "execution_count": 47,
   "metadata": {},
   "outputs": [
    {
     "data": {
      "text/plain": [
       "{'hotel_name': 'Romance Istanbul Hotel',\n",
       " 'hotel_description': 'Romance Istanbul Hotel has 39 rooms.Every room is elegantly furnished and harmonizes the modern life style with the traditional Ottoman touch. Romance Istanbul sits at the intersection of the old city’s most important part. With its luxuriously inspiring design and landmark old city location, steeped in the history of its surroundings, Romance Istanbul Hotel welcomes you with exceptional designed rooms and world-renowned Turkish hospitality. Our colleagues deliver the most personal service. It is perfectly placed and perfectly designed to enhance all that Istanbul has to offer. Each room offers a private bathroom and shower. Each is equipped with a satellite TV and free wifi connection. The rooms size change between 20 m2 and 45 m2. It includes 7 suite rooms: 1 Royal Suite, 4 Grand Suite, 1 Romance Suite and 1 Premium Suite, 2 Luxury Room With Terrace, 22 Deluxe Room, 8 City Room.',\n",
       " 'review_title': 'An exceptional boutique hotel, great value for your money',\n",
       " 'review_text': None,\n",
       " 'rate': None,\n",
       " 'tripdate': ' February 2020',\n",
       " 'hotel_url': 'https://www.tripadvisor.com/Hotel_Review-g293974-d8364987-Reviews-Romance_Istanbul_Hotel-Istanbul.html',\n",
       " 'hotel_image': 'https://media-cdn.tripadvisor.com/media/photo-s/1c/02/78/ba/romance-istanbul-hotel.jpg',\n",
       " 'price_range': '$ (Based on Average Nightly Rates for a Standard Room from our Partners)',\n",
       " 'rating_value': 5.0,\n",
       " 'review_count': 4023,\n",
       " 'street_address': 'Hudavendigar Cd. No:5 Sirkeci',\n",
       " 'locality': 'Istanbul',\n",
       " 'country': 'Turkiye'}"
      ]
     },
     "execution_count": 47,
     "metadata": {},
     "output_type": "execute_result"
    }
   ],
   "source": [
    "dataset['train'][0]"
   ]
  },
  {
   "cell_type": "code",
   "execution_count": 44,
   "metadata": {},
   "outputs": [],
   "source": [
    "from enum import Enum\n",
    "from pydantic import BaseModel, constr\n",
    "\n",
    "import outlines\n",
    "import torch"
   ]
  },
  {
   "cell_type": "code",
   "execution_count": 45,
   "metadata": {},
   "outputs": [],
   "source": [
    "from outlines import models\n",
    "\n",
    "model = models.openai(\"gpt-3.5-turbo\",api_key=OPENAI_API_KEY)"
   ]
  },
  {
   "cell_type": "code",
   "execution_count": 48,
   "metadata": {},
   "outputs": [],
   "source": [
    "class hotel_info(str, Enum):\n",
    "    name_of_hotel = \"Romance Istanbul Hotel\"\n",
    "    hotel_url = \"https://www.tripadvisor.com/Hotel_Review-g293974-d8364987-Reviews-Romance_Istanbul_Hotel-Istanbul.html\"\n",
    "    hotel_image = \"https://media-cdn.tripadvisor.com/media/photo-s/1c/02/78/ba/romance-istanbul-hotel.jpg\"\n",
    "    address = \"Hudavendigar Cd. No:5 Sirkeci\"\n",
    "    country = \"Turkiye\"\n",
    "    locality = \"Istanbul\"\n",
    "    "
   ]
  },
  {
   "cell_type": "code",
   "execution_count": 49,
   "metadata": {},
   "outputs": [
    {
     "ename": "NotImplementedError",
     "evalue": "Cannot use JSON Schema-structure generation with an OpenAI model due to the limitations of the OpenAI API",
     "output_type": "error",
     "traceback": [
      "\u001b[0;31m---------------------------------------------------------------------------\u001b[0m",
      "\u001b[0;31mNotImplementedError\u001b[0m                       Traceback (most recent call last)",
      "Cell \u001b[0;32mIn[49], line 2\u001b[0m\n\u001b[1;32m      1\u001b[0m \u001b[38;5;66;03m# Construct structured sequence generator\u001b[39;00m\n\u001b[0;32m----> 2\u001b[0m generator \u001b[38;5;241m=\u001b[39m \u001b[43moutlines\u001b[49m\u001b[38;5;241;43m.\u001b[39;49m\u001b[43mgenerate\u001b[49m\u001b[38;5;241;43m.\u001b[39;49m\u001b[43mjson\u001b[49m\u001b[43m(\u001b[49m\u001b[43mmodel\u001b[49m\u001b[43m,\u001b[49m\u001b[43m \u001b[49m\u001b[43mhotel_info\u001b[49m\u001b[43m)\u001b[49m\n",
      "File \u001b[0;32m~/miniconda3/envs/traversal/lib/python3.10/functools.py:889\u001b[0m, in \u001b[0;36msingledispatch.<locals>.wrapper\u001b[0;34m(*args, **kw)\u001b[0m\n\u001b[1;32m    885\u001b[0m \u001b[38;5;28;01mif\u001b[39;00m \u001b[38;5;129;01mnot\u001b[39;00m args:\n\u001b[1;32m    886\u001b[0m     \u001b[38;5;28;01mraise\u001b[39;00m \u001b[38;5;167;01mTypeError\u001b[39;00m(\u001b[38;5;124mf\u001b[39m\u001b[38;5;124m'\u001b[39m\u001b[38;5;132;01m{\u001b[39;00mfuncname\u001b[38;5;132;01m}\u001b[39;00m\u001b[38;5;124m requires at least \u001b[39m\u001b[38;5;124m'\u001b[39m\n\u001b[1;32m    887\u001b[0m                     \u001b[38;5;124m'\u001b[39m\u001b[38;5;124m1 positional argument\u001b[39m\u001b[38;5;124m'\u001b[39m)\n\u001b[0;32m--> 889\u001b[0m \u001b[38;5;28;01mreturn\u001b[39;00m \u001b[43mdispatch\u001b[49m\u001b[43m(\u001b[49m\u001b[43margs\u001b[49m\u001b[43m[\u001b[49m\u001b[38;5;241;43m0\u001b[39;49m\u001b[43m]\u001b[49m\u001b[38;5;241;43m.\u001b[39;49m\u001b[38;5;18;43m__class__\u001b[39;49m\u001b[43m)\u001b[49m\u001b[43m(\u001b[49m\u001b[38;5;241;43m*\u001b[39;49m\u001b[43margs\u001b[49m\u001b[43m,\u001b[49m\u001b[43m \u001b[49m\u001b[38;5;241;43m*\u001b[39;49m\u001b[38;5;241;43m*\u001b[39;49m\u001b[43mkw\u001b[49m\u001b[43m)\u001b[49m\n",
      "File \u001b[0;32m~/miniconda3/envs/traversal/lib/python3.10/site-packages/outlines/generate/json.py:75\u001b[0m, in \u001b[0;36mjson_openai\u001b[0;34m(model, schema_object, sampler)\u001b[0m\n\u001b[1;32m     71\u001b[0m \u001b[38;5;129m@json\u001b[39m\u001b[38;5;241m.\u001b[39mregister(OpenAI)\n\u001b[1;32m     72\u001b[0m \u001b[38;5;28;01mdef\u001b[39;00m \u001b[38;5;21mjson_openai\u001b[39m(\n\u001b[1;32m     73\u001b[0m     model, schema_object: Union[\u001b[38;5;28mstr\u001b[39m, \u001b[38;5;28mobject\u001b[39m, Callable], sampler: Sampler \u001b[38;5;241m=\u001b[39m multinomial()\n\u001b[1;32m     74\u001b[0m ):\n\u001b[0;32m---> 75\u001b[0m     \u001b[38;5;28;01mraise\u001b[39;00m \u001b[38;5;167;01mNotImplementedError\u001b[39;00m(\n\u001b[1;32m     76\u001b[0m         \u001b[38;5;124m\"\u001b[39m\u001b[38;5;124mCannot use JSON Schema-structure generation with an OpenAI model \u001b[39m\u001b[38;5;124m\"\u001b[39m\n\u001b[1;32m     77\u001b[0m         \u001b[38;5;241m+\u001b[39m \u001b[38;5;124m\"\u001b[39m\u001b[38;5;124mdue to the limitations of the OpenAI API\u001b[39m\u001b[38;5;124m\"\u001b[39m\n\u001b[1;32m     78\u001b[0m     )\n",
      "\u001b[0;31mNotImplementedError\u001b[0m: Cannot use JSON Schema-structure generation with an OpenAI model due to the limitations of the OpenAI API"
     ]
    }
   ],
   "source": [
    "\n",
    "# Construct structured sequence generator\n",
    "generator = outlines.generate.json(model, hotel_info)\n"
   ]
  },
  {
   "cell_type": "code",
   "execution_count": null,
   "metadata": {},
   "outputs": [],
   "source": [
    "\n",
    "# Draw a sample\n",
    "rng = torch.Generator(device=\"cuda\")\n",
    "rng.manual_seed(789001)\n",
    "\n",
    "character = generator(\"Give me a character description\", rng=rng)\n",
    "\n",
    "print(repr(character))"
   ]
  },
  {
   "cell_type": "code",
   "execution_count": null,
   "metadata": {},
   "outputs": [],
   "source": []
  },
  {
   "cell_type": "code",
   "execution_count": null,
   "metadata": {},
   "outputs": [],
   "source": []
  },
  {
   "cell_type": "code",
   "execution_count": 35,
   "metadata": {},
   "outputs": [],
   "source": [
    "import requests\n",
    "\n",
    "url = \"https://api-ares.traversaal.ai/live/predict\"\n",
    "\n",
    "payload = { \"query\": [\"taco spots in San Francisco\"] }\n",
    "headers = {\n",
    "  \"x-api-key\": ares_api,\n",
    "  \"content-type\": \"application/json\"\n",
    "}\n",
    "\n",
    "response = requests.post(url, json=payload, headers=headers)"
   ]
  },
  {
   "cell_type": "code",
   "execution_count": 37,
   "metadata": {},
   "outputs": [
    {
     "data": {
      "text/plain": [
       "'{\"data\":[{\"response_text\":\"Here are some of the best taco spots in San Francisco:\\\\n\\\\n1. Al Pastor Papi: Known for their incredible fish tacos, try the baja taco with deep-fried rock cod and chipotle remoulade.\\\\n\\\\n2. Nopalito: A modern, all-organic Mexican restaurant offering make-it-yourself-style tacos with delicious house-made tortillas.\\\\n\\\\n3. Barrio: Enjoy stunning views of the Golden Gate Bridge while indulging in their Cochinita Pibil tacos.\\\\n\\\\n4. Bonita Taqueria and Rotisserie: Hidden gem serving up tasty mahi-mahi tacos with tangy coleslaw and arbol chile oil.\\\\n\\\\n5. Cielito Lindo: Visit this authentic taqueria for their mouthwatering quesa birria tacos and rich consomme.\\\\n\\\\n6. Lolo\\'s: Located in the Mission District, Lolo\\'s offers a range of exciting tacos that will satisfy any palate.\\\\n\\\\nPlease note that these are just a few recommendations and there are many more great taco spots to explore in San Francisco.\",\"web_url\":[\"https://sf.eater.com/maps/best-tacos-san-francisco\",\"https://www.sftravel.com/article/where-to-find-best-tacos-san-francisco\",\"https://www.femalefoodie.com/restaurant-reviews/best-tacos-in-san-francisco/\",\"https://www.reddit.com/r/AskSF/comments/pb1jug/best_taco_in_sf/\",\"https://traveloutlandish.com/blog/best-tacos-in-san-francisco-taquerias/\",\"https://www.yelp.com/search?find_desc=Tacos&find_loc=San+Francisco%2C+CA\",\"https://www.theinfatuation.com/san-francisco/cuisines/tacos\",\"https://lataco.com/san-francisco-best-tacos-guide\",\"https://www.sfchronicle.com/projects/best-tacos-bay-area/\",\"https://foursquare.com/top-places/san-francisco/best-places-street-tacos\"],\"meta-data\":{\"id\":\"chatcmpl-8pQNNoQQ82tgVWqr9vp0Sd8gDMjWt\",\"choices\":[{\"finish_reason\":\"stop\",\"index\":0,\"logprobs\":null,\"message\":{\"content\":\"Here are some of the best taco spots in San Francisco:\\\\n\\\\n1. Al Pastor Papi: Known for their incredible fish tacos, try the baja taco with deep-fried rock cod and chipotle remoulade.\\\\n\\\\n2. Nopalito: A modern, all-organic Mexican restaurant offering make-it-yourself-style tacos with delicious house-made tortillas.\\\\n\\\\n3. Barrio: Enjoy stunning views of the Golden Gate Bridge while indulging in their Cochinita Pibil tacos.\\\\n\\\\n4. Bonita Taqueria and Rotisserie: Hidden gem serving up tasty mahi-mahi tacos with tangy coleslaw and arbol chile oil.\\\\n\\\\n5. Cielito Lindo: Visit this authentic taqueria for their mouthwatering quesa birria tacos and rich consomme.\\\\n\\\\n6. Lolo\\'s: Located in the Mission District, Lolo\\'s offers a range of exciting tacos that will satisfy any palate.\\\\n\\\\nPlease note that these are just a few recommendations and there are many more great taco spots to explore in San Francisco.\",\"role\":\"assistant\",\"function_call\":null,\"tool_calls\":null}}],\"created\":1707266809,\"model\":\"gpt-35-turbo-16k\",\"object\":\"chat.completion\",\"system_fingerprint\":null,\"usage\":{\"completion_tokens\":211,\"prompt_tokens\":5965,\"total_tokens\":6176}},\"scrapped_data\":[{\"url\":\"https://sf.eater.com/maps/best-tacos-san-francisco\",\"text\":\"12 Incredibly Fresh Sushi Restaurants in the East Bay17 Essential Places to Eat and Drink in San Francisco’s Historic JapantownHere Are the Hottest New Restaurants in the East Bay, February 2024Where to get your carnitas, fish taco, and quesabirria fix San Francisco taco culture: Not a phrase thrown around as often as it should. Everybody knows the annoying fanaticism around burrito culture, especially the Mission-style burrito, was born here. We experienced the depths of the quesabirria craze in full force, too. But the Bay Area’s taco game is stronger than it often gets credit for. Mothers Tacos in Napa brings the heat to a former Pizza Hut, plus bean king Steve Sando knows all the best spots for tacos north of the city. Sacramento has Naijia Boy Tacos, fusing West African flavors within a corn tortilla. But in San Francisco these 18 restaurants make a strong case for why the city should be considered amongst California’s finest destinations for tacos, full stop.Las Mestizas made the move from the Mission to the Marina this year, bringing its Yucatan specialties along for the ride. The cochinita pibil and poc chuc are the specialties here, and the tacos are the perfect way to highlight both styles of meat. If you’re wondering what to order at Cholita Linda, all of the dishes are excellent, but the crispy, Baja-style fish taco is the standout. The crispy fish, topped with cabbage slaw and a crema can’t be beat, come paired with views of the water at the restaurant’s Ferry Building location. 20 Excellent and Child-Friendly Restaurants in the East BayOne of the better Mexican restaurants on the West side, Los Mayas is also one of the city’s better Yucatecan restaurants. It’s a solid spot to sample the cuisine’s characteristic citrus-marinated meats — poc chuc and cochinita pibil — in taco form, piled onto fat handmade tortillas.9 San Francisco Tamales Worth Adding to Your Wish List This Holiday SeasonCancun (with three locations in the Mission, Bernal Heights and SoMa) is a San Francisco crowd favorite. If you’re deciding what to order, the al pastor and carnitas are always reliable and the tacos always have just the right meat-to-tortilla ratios. The 38 Essential Restaurants in San Francisco18 Classic Restaurants Every San Franciscan Must TryThis Design District restaurant earned a reputation for its excellent Guanajuatan cuisine and its rich pozole verde. But it’s also a great spot for carnitas tacos: slow-roasted local pork shoulder piled onto tortillas made with fresh masa from Oakland’s La Finca Tortilleria.El Tonayense\\'s trucks travel the city, dispensing their tender meats to taco (and burrito) lovers — but thankfully there’s always one parked outside the Mission Best Buy. The tender lengua is a good choice here, drenched in El Tonayense’s excellent salsa roja.Check your inbox for a welcome email.Oops. Something went wrong. Please enter a valid email and try again.There’s plenty to enjoy at Poc-Chuc, which serves up Yucatecan and Mayan-style food, but the tacos themselves are worth stopping in for. The homemade tortillas are the perfect vessel for the varieties of meat served at Poc-Chuc; the pork in the cochinita pibil taco is tender and comes served with an achiote sauce and pickled red onions, while the taco de chimole de pavo, comes topped with strands of turkey swimming in ink-black mole. Both sauces were soaked up nicely by the tortilla and dribbled slightly onto the plate... a bit messy, but worth it.15 Mighty Mexican Restaurants in San FranciscoWhen Copas reopened as a taco haven in April 2023 it quickly became a sensation for fans of Baja California-style tacos. Taco fanatic (and San Francisco Chronicle food critic) Cesar Hernandez wrote that the Tijuana-style fundamentals are huge here. Veggie tacos, filled with creamy Brussels sprouts, are a smart order.14 Eye-Catching Private Dining Rooms in San FranciscoThe Best Moderately-Priced Date Night Restaurants in the Bay AreaThe quesabirria tacos are the most popular at Chuy’s Fiestas, a waiter confirmed, and it’s easy to see why: the classically red-tinged tacos come stuffed with meat and cheese, with the tortilla charred to a nice crisp and served alongside the cutest bowl holding the requisite consomé. But there are other tacos to explore on the menu; the vampiro taco can satisfy the hungriest people in your party and comes loaded with carne asada, melted cheese, pinto beans, pico de gallo, a healthy serving of guacamole and topped with tomatillo sauce. Tucked away in the Mission, San Jalisco is a charming, no-frills diner-style taqueria. The tacos here are huge and available in both soft and hard shell styles. Regulars come specifically for the goat birria that’s available on Fridays and weekends.The 12 Sauciest Chilaquiles in San Francisco  Loló has been a Mission District favorite since its debut in 2007. The restaurant bills itself as serving a “playful interpretation of Jaliscan-Californian cuisine” and it shows with its various takes on the taco. Try the Taco Tropical with spiced panko-encrusted shrimp and chipotle aioli drizzle or the fried chicken taco with coleslaw and pickled jalapenos, or go for the “al pastor” cauliflower tacos if you’re looking for a vegetarian option.The 38 Essential Restaurants in San Francisco12 Excellent Margaritas in San FranciscoEl Gallo Giro has long been one of the best taco trucks in the biz, dishing out impeccably juicy carnitas and deeply flavorful grilled chicken.\\xa0You can find the truck parked in its usual spot at 23rd Street and Treat Avenue, from 10 a.m. to 5 p.m. Monday through Friday.17 Destination Restaurants, Bars, and Bakeries in the Mission District15 Mighty Mexican Restaurants in San FranciscoLa Torta Gorda is a mom-and-pop owned by a family from Puebla, Mexico. Although the restaurant is best known for its namesake sandwiches, its meaty tacos are also solid — including the oversized “Taco Placero” — especially when doused with the shop’s very good salsas verde and rojo. This unassuming meat market hides handmade tortillas with various meat options within, the best of which is the cecina, a salted and air-dried meat sliced thin and crisped on the griddle. Be careful with the salsa rojo here — it is seriously hot. The taco counter is open with somewhat limited hours — 9 a.m. to 5 p.m., except Sundays when it closes at 2.This is your spot for less common (in San Francisco) but delicious bits like suadero, buche, and tripitas, though the carne asada and al pastor also don’t disappoint. Order three tacos for a full meal, alongside a selection of aguas frescas.La Taq is nationally famous for its meaty, rice-free burritos, and rightfully so. But if you talk to the restaurant’s legion of dedicated fans, many of them will tell you that it’s La Taqueria’s tacos, and not its burritos, that are its most delicious offerings. The carnitas and carne asada are both uncommonly juicy and flavorful, and the tacos come loaded with so much meat (and guacamole, sour cream, and cheese if you opt for the “super” version) that just one or two makes for a filling meal. Go for the dorado style, with a crispy corn tortilla folded inside a soft one, for a taco with more crunch and structural integrity.13 James Beard Award-Winning Restaurants to Try in San Francisco The 38 Essential Restaurants in San FranciscoIf you’re going to order a single taco at El Patrón, let it be the quesabirria, the cheesy, soupy Tijuana-style beef birria tacos (served with a side of consomé for convenient dipping) that this Mission taqueria helped popularize in the city. Really, though, any taco is a good choice here, with the other standout being the namesake Taco Patrón, which comes loaded with grilled shrimp and melted cheese.The 38 Essential Restaurants in San Francisco19 Bay Area Spots Where You Can Find Crispy, Cheesy Quesabirria TacosThis longtime Anchor Brewing pop-up just opened its first permanent location in spring 2023. Now, fans can get any of the suite of six tacos on the cheap — nothing more expensive than $6 for fare, including a roasted duck taco — on the city’s more or less slept-on east side.14 Destination Restaurants in Bayview and Hunter’s PointLas Mestizas made the move from the Mission to the Marina this year, bringing its Yucatan specialties along for the ride. The cochinita pibil and poc chuc are the specialties here, and the tacos are the perfect way to highlight both styles of meat. If you’re wondering what to order at Cholita Linda, all of the dishes are excellent, but the crispy, Baja-style fish taco is the standout. The crispy fish, topped with cabbage slaw and a crema can’t be beat, come paired with views of the water at the restaurant’s Ferry Building location. One of the better Mexican restaurants on the West side, Los Mayas is also one of the city’s better Yucatecan restaurants. It’s a solid spot to sample the cuisine’s characteristic citrus-marinated meats — poc chuc and cochinita pibil — in taco form, piled onto fat handmade tortillas.Cancun (with three locations in the Mission, Bernal Heights and SoMa) is a San Francisco crowd favorite. If you’re deciding what to order, the al pastor and carnitas are always reliable and the tacos always have just the right meat-to-tortilla ratios. This Design District restaurant earned a reputation for its excellent Guanajuatan cuisine and its rich pozole verde. But it’s also a great spot for carnitas tacos: slow-roasted local pork shoulder piled onto tortillas made with fresh masa from Oakland’s La Finca Tortilleria.El Tonayense\\'s trucks travel the city, dispensing their tender meats to taco (and burrito) lovers — but thankfully there’s always one parked outside the Mission Best Buy. The tender lengua is a good choice here, drenched in El Tonayense’s excellent salsa roja.There’s plenty to enjoy at Poc-Chuc, which serves up Yucatecan and Mayan-style food, but the tacos themselves are worth stopping in for. The homemade tortillas are the perfect vessel for the varieties of meat served at Poc-Chuc; the pork in the cochinita pibil taco is tender and comes served with an achiote sauce and pickled red onions, while the taco de chimole de pavo, comes topped with strands of turkey swimming in ink-black mole. Both sauces were soaked up nicely by the tortilla and dribbled slightly onto the plate... a bit messy, but worth it.When Copas reopened as a taco haven in April 2023 it quickly became a sensation for fans of Baja California-style tacos. Taco fanatic (and San Francisco Chronicle food critic) Cesar Hernandez wrote that the Tijuana-style fundamentals are huge here. Veggie tacos, filled with creamy Brussels sprouts, are a smart order.The quesabirria tacos are the most popular at Chuy’s Fiestas, a waiter confirmed, and it’s easy to see why: the classically red-tinged tacos come stuffed with meat and cheese, with the tortilla charred to a nice crisp and served alongside the cutest bowl holding the requisite consomé. But there are other tacos to explore on the menu; the vampiro taco can satisfy the hungriest people in your party and comes loaded with carne asada, melted cheese, pinto beans, pico de gallo, a healthy serving of guacamole and topped with tomatillo sauce. Tucked away in the Mission, San Jalisco is a charming, no-frills diner-style taqueria. The tacos here are huge and available in both soft and hard shell styles. Regulars come specifically for the goat birria that’s available on Fridays and weekends.Loló has been a Mission District favorite since its debut in 2007. The restaurant bills itself as serving a “playful interpretation of Jaliscan-Californian cuisine” and it shows with its various takes on the taco. Try the Taco Tropical with spiced panko-encrusted shrimp and chipotle aioli drizzle or the fried chicken taco with coleslaw and pickled jalapenos, or go for the “al pastor” cauliflower tacos if you’re looking for a vegetarian option.El Gallo Giro has long been one of the best taco trucks in the biz, dishing out impeccably juicy carnitas and deeply flavorful grilled chicken.\\xa0You can find the truck parked in its usual spot at 23rd Street and Treat Avenue, from 10 a.m. to 5 p.m. Monday through Friday.La Torta Gorda is a mom-and-pop owned by a family from Puebla, Mexico. Although the restaurant is best known for its namesake sandwiches, its meaty tacos are also solid — including the oversized “Taco Placero” — especially when doused with the shop’s very good salsas verde and rojo. This unassuming meat market hides handmade tortillas with various meat options within, the best of which is the cecina, a salted and air-dried meat sliced thin and crisped on the griddle. Be careful with the salsa rojo here — it is seriously hot. The taco counter is open with somewhat limited hours — 9 a.m. to 5 p.m., except Sundays when it closes at 2.This is your spot for less common (in San Francisco) but delicious bits like suadero, buche, and tripitas, though the carne asada and al pastor also don’t disappoint. Order three tacos for a full meal, alongside a selection of aguas frescas.La Taq is nationally famous for its meaty, rice-free burritos, and rightfully so. But if you talk to the restaurant’s legion of dedicated fans, many of them will tell you that it’s La Taqueria’s tacos, and not its burritos, that are its most delicious offerings. The carnitas and carne asada are both uncommonly juicy and flavorful, and the tacos come loaded with so much meat (and guacamole, sour cream, and cheese if you opt for the “super” version) that just one or two makes for a filling meal. Go for the dorado style, with a crispy corn tortilla folded inside a soft one, for a taco with more crunch and structural integrity.If you’re going to order a single taco at El Patrón, let it be the quesabirria, the cheesy, soupy Tijuana-style beef birria tacos (served with a side of consomé for convenient dipping) that this Mission taqueria helped popularize in the city. Really, though, any taco is a good choice here, with the other standout being the namesake Taco Patrón, which comes loaded with grilled shrimp and melted cheese.This longtime Anchor Brewing pop-up just opened its first permanent location in spring 2023. Now, fans can get any of the suite of six tacos on the cheap — nothing more expensive than $6 for fare, including a roasted duck taco — on the city’s more or less slept-on east side.\",\"title\":\"18 of San Francisco’s Best Taco Destinations - Eater SFclockmenumore-arrownoyesmobileFollow Eater SF on TwitterFollow Eater SF on FacebookFollow Eater SF on YoutubeFollow Eater SF on InstagramSearch\"},{\"url\":\"https://www.sftravel.com/article/where-to-find-best-tacos-san-francisco\",\"text\":\"\\\\n          By \\\\n  Dan Rosenbaum\\\\n\\\\n        \\\\n          From the traditional to the unexpected, tacos in San Francisco run the gamut and can be found in almost every neighborhood. Which is your favorite?\\\\n        San Francisco is known for a number of\\xa0signature dishes, and locals have their own strong opinions about where to find\\xa0the best of the best.\\xa0Among those famous foods: tacos! Like\\xa0the best burritos in San Francisco\\xa0(the taco\\'s close cousin), we\\'ve done the demanding, delicious work of eating all over the city and have come up with our recommendations for the best tacos in San Francisco. Which one is your favorite?What could be more San Francisco than finding out the best tacos you\\'ll ever have come from a truck?\\xa0Miguel Escobedo\\xa0started\\xa0serving his incredible creations years ago and his popularity has never stopped growing. Inspired by the food of Miguel\\'s native Mexico City, Al Pastor Papi tacos are a badge of honor for any traveling foodie.In\\xa0the Richmond, no one does tacos like Cielito Lindo. All your traditional favorites are served here quickly and with a smile. Cielito Lindo is also known for its quesabirria tacos: spiced tortillas that are grilled and topped with carne asada, melted cheese, diced onion, and cilantro. It\\'s a great place to stop on your way to or from the sights of the\\xa0Sutro Baths.While there are a lot of delicious things to eat at the Ferry Building, do not overlook the tacos from Cholita Linda. The crispy, Baja-style fish taco,\\xa0topped with cabbage slaw and a crema, is the standout. Devour one while looking out at the bay; that\\'s the way to go.North Beach\\xa0may be best known for its Italian food, but look hard enough and you\\'ll find some terrific tacos among all that pizza and pasta. Don Pistos\\'s\\xa0street tacos are deliciously authentic, and their squash tacos—served with avocado salsa, onions, and cilantro—might be our favorite vegetarian option we\\'ve sampled.\\xa0Not far from\\xa0Oracle Park is Garaje, which manages to create an almost retro drive-in vibe while being surrounded by San Francisco\\'s rapidly evolving modern skyline. Try their beer-battered tilapia tacos. The chipotle mayo goes perfectly with them.For a straight-up, no-frills, and thoroughly filling taco experience, visit La Taqueria in\\xa0the Mission. If you\\'re feeling bold, order your tacos super. That means they\\'ll come with beans, pico de gallo, three cheeses, sour cream, and avocado. Good look keeping all that inside the tortilla!If you\\'re looking for the best fish tacos in San Francisco, it makes sense to head toward the ocean. At Hook Fish Co., just blocks from\\xa0Ocean Beach, you\\'ll find incredibly fresh fish tacos, served grilled or poke style. Their pickled slaw and spicy aioli give their tacos an unexpected kick.Right in the middle of\\xa0the Mission\\'s\\xa0most happening stretch is Mosto, a bar best known for having more than 300 types of tequila and mezcal in stock. They also serve delicious\\xa0al pastor and pastrami tacos. Be sure to stop in on Taco Tuesdays between 5 and 7 p.m. to enjoy their $1 taco specials.Don\\'t be confused by the spelling or the Nantucket-themed decor. Cow Hollow\\'s Tacko has some of the best tacos you\\'ll find in the city. Their nautical nature serves them well on their delicious grilled fish and gulf shrimp tacos, filled with cilantro, cabbage, red onions, pico de gallo and tomato salsa.Whether you visit their Marina or Mission locations, you won\\'t be disappointed by Tacolicious. Offering traditional tacos filled with carne asada or carnitas, as well as tasty vegan and gluten-free options, Tacolicious\\'s\\xa0kitchen creations\\xa0are great to share with friends. You can purchase 4 tacos for $25 or 10 for $58. With cocktails available by the pitcher, Tacolicious is a great place for a group hang.\\xa0Korean/Mexican fusion is a marriage made in taco heaven that you can find at Tacorea in Nob Hill or in their newest Chinatown location. If you\\'re looking for the Korean flavor, get Mama Lee\\'s spicy pork or the bulgogi.At the southern edge of\\xa0the Mission\\xa0lies one of San Francisco\\'s newest taco hotspots. The food at Tacos El Patron is cooked with love, with family recipes and traditions serving as\\xa0the inspiration. Where else would you find tacos birria, a house speciality taco made with beef stew meat and served with broth on the side?Just a short walk from a number of\\xa0Golden Gate Park\\'s\\xa0major attractions is Underdogs Tres, a tiny neighborhood favorite with a variety of tacos on the menu. We recommend ordering your tacos \\\\\"Nick\\'s Way\\\\\": where a crispy grilled tortilla is wrapped in a soft corn tortilla, then stuffed with your choice of meat and Monterey Jack cheese, pinto beans, pico de gallo, and guacamole.Dan is the Vice President, Global Marketing, at San Francisco Travel. San Francisco has been his home for over a decade (that makes him a local, right?). On the weekends, you can find him with a cup of craft coffee in hand, a playlist of good vibes, a growing list of books to read, or out at the city\\'s hottest new restaurant or bar.You don’t have to travel far to find a great LGBTQ bar in San Francisco.In a culinary capital like San Francisco, you won\\'t believe how many delicious versions of a classic hamburger are waiting for visitors.Enjoy a day of shopping, sightseeing, and dining in the Fisherman\\'s Wharf neighborhood, one of San Francisco\\'s most popular neighborhoods. Are you looking for a dining experience that embodies classic San Francisco? Well, look no further than the Tadich Grill, the oldest restaurant in...Come hungry to this popular San Francisco destination!This is your guide to the delicious restaurants and speciality food retailers in San Francisco\\'s Ferry Building.\\\\nOur motto: there are a farmers\\' markets happening somewhere in the city. With fresh produce year-round and with farms nearby, it\\'s farm-to-table every day.Learn about the history behind one of San Francisco\\'s most iconic beverages.Be the first to know about upcoming events and festivals, new restaurants, special deals, and everything else happening in the City by the Bay.© 2024 San Francisco Travel Association. All Rights Reserved.\",\"title\":\"Where to Find the Best Tacos in San Francisco | San Francisco Travel\"},{\"url\":\"https://www.femalefoodie.com/restaurant-reviews/best-tacos-in-san-francisco/\",\"text\":\"Our latest & greatest straight to your inboxSign upIf you know anything about California, you know that tacos are an essential and abundant part of the food scene, and San Francisco is no exception. Narrowing down the best taco shops in San Francisco can be tricky when they can be found on nearly every corner, but that’s what we do best! We’ve rounded up the very best tacos in San Fransisco. So whether you’re a hungry traveler, or a Bay Area local in search of your new favorite taco shop, this guide to the best tacos in San Francisco is for you. Happy eating!If you are a fish taco fan, you must try Papito! The baja taco is the way to go when ordering here. Papito uses rock cod that is deep-fried in a Modelo batter. Topped with a creamy chipotle remoulade and slaw, these tacos will surprise you with their light taste and fantastic flavor. Get this taco with a crunchy shell and pair it with their sweet mango salsa that meshes immaculately with the slaw. Papito has a great outdoor dining area that allows you to emerge yourself in the up-and-coming Potrero Hill neighborhood, which is known for its family-friendly environment.1457 18th St, San Francisco, CA 94107Looking for a healthier option? Nopalito’s is the spot for you! This modern, all-organic Mexican restaurant serves up some delicious tacos that will have you wanting more before you’ve even left. With a spacious indoor dining area and sidewalk cafe, Nopalito’s is perfect for a sit-down dinner date or quick lunch break. Nopalito’s has a more abstract approach to their taco game, with a make-it-yourself-style taco. Served with a platter of carnitas, curtido cabbage slaw, and tangy salsa cruda, guests can load it all up in a delicious house-made tortilla. Their tortillas alone earn them a spot on our guide to the best tacos in San Francisco. Still hungry after your tacos? Treat yourself to something sweet from their pastry selection!306 Broderick St, San Francisco, CA 94117SEE ALSO: 7 Best Donuts in San FranciscoBarrio is the place to go for a meal with a view. Sink your teeth into a taco while witnessing a stunning view of the Golden Gate Bridge. And while the views are great, Barrio’s no-frill tacos are a must-try on your search for the best tacos in San Francisco.\\xa0We recommend the Cochinita Pibil—marinated pork tacos!\\xa0The tender meat pairs seamlessly with the pickled onions wrapped in a fresh blue heirloom corn tortilla. Each taco order comes with a side of beans and rice. Get a side of the Yuca Frita for the table to truly experience the greatness of Barrio.$$ Wine Bars, Beer Bar, Latin American1609 Powell St, San Francisco, CA 94133Bonita Taqueria and Rotisserie is a bit of a hidden gem, but they are absolutely serving up some of the best tacos in San Francisco.\\xa0When entering the restaurant, guests are greeted with an outdoor dining area that resembles a small town in Mexico (we love!). They’re then presented with a plethora of taco options, and while exciting, it can be a little overwhelming. Don’t worry, we’re here to help. Get the mahi-mahi tacos,\\xa0loaded with tangy coleslaw, guac, and arbol chile oil. You’ll never be the same. There are also great vegetarian alternatives to be found here. With an unorthodox twist to their veggie taco, Bonita Taqueria and Rotisserie implement pumpkin seeds, giving the taco not only a distinctive flavor but a great crunch. If you’re visiting on a clear day, enjoy a walk or quick drive to Fort Mason to see the Golden Gate Bridge after your meal!\\xa02257 Chestnut St, San Francisco, CA 94123RELATED: Top 10 Ice Cream Shops in SFThe California experience is not complete without a stop to an authentic taqueria, and Cielito Lindo is one of our favorites in SF. Their quesa birria tacos will be a highlight of your San Francisco food tour, and maybe of your life. Cielito Lindo’s mouthwatering consomme holds its own with its rich flavor, but the combo of the tender meat, gooey cheese, and consomme is out of this world. Ooh, and we also love the burnt cheesy ends. Don’t forget to add their hot sauce for an extra punch to your tacos! This hole-in-the-wall is a quick drive away from Ocean Beach, so grab the family and head down to the beach for a taco party.3440 Balboa St, San Francisco, CA 94121For a modern dining experience, head to Lolo’s in the Mission District. Lolo’s serves a range of exciting tacos that will satisfy any palate. Step out of your comfort zone and try one of Lolo’s original taco creations, like the Taco Tropical—a spiced, panko-coated shrimp served with a vibrant salsa and chipotle aioli that adds the perfect kick. This taco comes with a jicama tortilla that adds a refreshing crunch to every bite. In need of an appetizer? The baby kale salad is a perfect light start to your meal.\\xa0Lolo’s ambiance is perfect for a date night or dinner with the girls, but they don’t take reservations so make sure to plan ahead to beat the crowd.974 Valencia St, San Francisco, CA 94110Don’t Miss: 9 Best Bakeries in San FranciscoSenor Sisig is one of our favorite spots for getting tacos in the city! With a hole-in-the-wall location in the Mission District as well as a food truck, Senor Sisig tacos are easy to get your hands on. Their Filipino-fusion style gives a twist to the classic taco, and earns them a well-deserved spot on our guide to the best tacos in San Francisco. As much as we love a traditional meat taco, the tofu option is the real show stopper here. We know what you’re thinking—tofu tacos?! Don’t knock it until you try it. Senor Sisig keeps their taco toppings simple with onions, lettuce, fresh jalapeños, and a zesty cilantro cream sauce, which we love. Be sure you check out their website to track down their daily food truck stops.$$ Mexican, Filipino, Asian Fusion990 Valencia St, San Francisco, CA 94110Can’t decide between Mexican or Asian? Then Tacorea is the place for you! Located close to Union Square, Tacorea serves up mind-blowing Korean fusion tacos. We recommend getting the Bulugoi street tacos combo deal, which will land you two sweet marinated beef tacos topped with fresh housemade tomatillo salsa, onions, and cilantro.\\xa0 If spicy is your thing, Tacorea’s hot sauce is no joke! The sweet chili hot sauce will take your taco to the next level. Our favorite part of Tacorea’s tacos is the side of tater tots it comes with.$$ Mexican, Korean, Breakfast & Brunch809 Bush St, San Francisco, CA 94108Hook Fish Co. is an absolutely essential stop on your tour of the best tacos in San Francisco. Hook Fish Co. has a phenomenal fish selection that changes daily to showcase whatever is fresh. Their poké tacos will take your taste buds on a vacation to the Hawaiian Islands—served with a crunchy slaw, spicy aioli, and avocado on fresh housemade tortillas. They’re so good, you’re going to want a spoon to scoop up everything that falls out of your taco. They update their Instagram stories daily with photos of the fresh catch if you want to know what the current fish of the day is before heading out.4542 Irving St, San Francisco, CA 94122Hungry For More? 25 Best Restaurants in Los AngelesNow, for the most crucial stop on your taco tour—Tacos El Patron. Tacos El Patron serves THE best tacos in San Francisco, hands down. Tacos El Patron is located in the Mission District where you can find a taqueria on just about every corner, so what makes Tacos El Patron stand out? To start, their menu offers an unmatched assortment of proteins that will cater to anyone. If you’re an adventurous eater, this is a great place to expand your palate. But what really steals the show at Tacos El Patron is their quesa birria tacos. These tacos are stuffed full of tender meat, fresh onions, and melty cheese that will have you falling in love at first bite. Full disclosure, eating these tacos may get messy. Embrace these tacos in all their messy glory—it’s always worth it!\\xa01500 S Van Ness Ave #100, San Francisco, CA 941101457 18th St, San Francisco, CA 94107306 Broderick St, San Francisco, CA 941171609 Powell St, San Francisco, CA 941332257 Chestnut St, San Francisco, CA 941233440 Balboa St, San Francisco, CA 94121974 Valencia St, San Francisco, CA 94110990 Valencia St, San Francisco, CA 94110809 Bush St, San Francisco, CA 941084542 Irving St, San Francisco, CA 94122516 N State College Blvd, Anaheim, CA 92806Get our free bucket list with 100 must-try restaurants in San Francisco, categorized by neighborhood.Your email address will not be published. Required fields are marked *Save my name and email in this browser for the next time I comment.This site uses Akismet to reduce spam. Learn how your comment data is processed.You put the wrong address for El Patron. You have it located in Anaheim, plus it’s your #1 restaurant. Very confusing.Thank you for letting us know- this has been corrected. Appreciate it!Our team of local, trustworthy foodies scout out the best places to eat, so that you don’t have to waste your hard earned pennies on lousy food. Ever again.Get our latest recipes & restaurant guides straight to your inbox.Life\\'s too short to eat bad foodGet our latest recipes & restaurant guides straight to your inbox.\",\"title\":\"10 Best Tacos in San Francisco - Female FoodieInstagramFacebookPinterestYouTubeTikTokToggle MenuToggle SearchClose MenuSearchInstagramFacebookPinterestYouTubeTikTokClose SearchSearchPinCommentsSaveShare on FacebookPinTweetEmailInstagramFacebookPinterestYouTubeTikTokClose\"},{\"url\":\"https://lataco.com/san-francisco-best-tacos-guide\",\"text\":\"[dropcap size=big]Y[/dropcap]ou might be wondering why you’re reading a guide about SF tacos over here at L.A. TACO—it’s quite simple really: It\\'s one of the most common guide requests we get. As people are traveling more, taking that really quick flight to SFO, or making the road trip up the 5, it makes perfect sense. After all, we always gotta know where all the good taco spots are and you definitely don\\'t want to be caught slipping out in SF.San Francisco’s taco game is strong, diverse, and delicious. From roving taqueros slanging soft and steamy tacos de canasta in the Mission District to cochinita specialist trucks overlooking the Golden Gate Bridge, San Francisco has something to offer—you just gotta come with an open mind and a hungry stomach.Here is a list of our L.A. TACO-approved spots.A post shared by Felipe Rreyes (@deliciosostacosdecanasta)Felipe Reyes is an inspiration. Originally from Mexico City, he used to cook at restaurants in San Francisco but was laid off when COVID hit. So he took to the streets of The Mission and started selling extra sweaty tacos de canasta out of a little blue cooler—he’s been making and selling hundreds of tacos six days a week since. He does six different guisados daily—the chicharrón prensado is our favorite and sells out first. Felipe moves up and down Mission Street starting at 10 AM and usually sells out by 1 PM, aka, taco de canasta hours. He can sometimes be hard to track down (most of the time it feels like Felipe finds you). This piece\\xa0I did on him in The Chronicle is worth a read.Follow his\\xa0Instagram for the latest location, and catch him if you can.A post shared by La Gallinita Meat Market (@belmarlagallinita)La Gallinita is one part carnicería, one part Mexicatessan, one part taquería, and 100% one of my favorite spots in The Mission. The business has been around for over 60 years and is run by the Vasquez family. You can still find Sal—now approaching his 80s—behind the counter cheerily cutting carne to order for his customers. The thing to get is the cecina taco—they butcher beef themselves, of course, using the thinly sliced eye of the round and salting for at least 24 hours before searing it on the plancha to order. They have tortillas de mano or regular—the tortilla power is yours to choose. The salsa roja gets its heat from habanero and color from árbol and packs a fiery punch.2989 24th St #4133, San Francisco, CA 94110A post shared by Tacos El Pollito (@tacoselpollitosf)Tacos El Pollito is one of the newer taco outfits that popped up on Mission Street during the last year of the pandemic. Run by a wife-and-husband couple, the Gutierrez family, who work at nearby Lucky Pork Market a few blocks away (where they also source their meats). Their setup reminds me a bit of L.A., with a tent over their plancha and a couple of tables and some makeshift chairs surrounding. Late at night, the lamplight shines bright, a beacon that beckons the burgeoning bar-hopping crowds, drunk and hungry. The cecina is solid, they have quesabirria for the masses of course (who doesn\\'t these days?), but for me, the cabeza is where it\\'s at. Braised beef cheek is juicy, stringy but intact, a sponge for the spicy salsas. Mulitas is the way.2467 Mission St San Francisco, CA 94110\\xa0A post shared by La Taqueria™️ (@lataqueriasf)La Taquería is an essential San Francisco institution. Since 1973, people have been lining up for the Jara family’s tightly wrapped burritos and tacos, and for good reason—they’re pfg. A few years ago I broke their\\xa0secret menu, where it was revealed you can do all sorts of sneaky menu hacks like get your burrito dorado—it’s worth a read before a visit. But these days, my biggest protip is unsuspectingly hidden in plain sight right on the menu: get a carne asada corn quesadilla—a single corn tortilla is filled with cheese and charred meat and put on the plancha until melted—it’s basically a DIY quesataco. Add cilantro and cebolla if you want, creamy bright green guacamole, and plump pintos make it extra. The green salsa verde, however, should not be missed.2889 Mission St, San Francisco, CA 94110A post shared by Loló Restaurant (@lolorestaurantsf)There are so many things I love about Loló—the owners to start are the warmest and most welcoming: Chef Jorge Martínez Lillard and his wife Lorena Zertuche (who designed the space—she’s a literal artist), as well as Juan Carlos Ruelas the GM. Their cocktail program is mezcal forward and solid, and they also have a genuine obsession with natural wines. It’s been around since 2007, and it’s always poppin\\' off—the vibe is so real, it makes me feel. The food--Jaliscan-Californian inspired—is eclectic and ever-changing. But the thing I gravitate towards the most, a menu mainstay, is the fried avocado tacos—remember you are in the Bay. It is creamy avocado coated in panko and fried until crispy with a dollop of jalapeno crema over a flour tortilla with melty Oaxacan cheese—truly one of my favorite things to eat in San Francisco.974 Valencia St, San Francisco, CA 94110A post shared by El Gallo Giro (@elgallogirotruck)El Gallo Giro is a taco truck that parks on the corner of 23rd Street\\xa0 and Treat Avenue in The Mission. Since 2002, Elena Caballero and her husband Jose Perez have been serving up some of my favorite carnitas in The City. Salted pork leg is cooked in a copper cauldron then crisped up on the plancha to order. Some bites contain crispy bits, others contain fatty, meatier chunks, but the best have a bit of both. I always go salsa roja with this—theirs is deeply heady and complex, slightly smokey, and not too spicy.986-998 Treat Ave, San Francisco, CA 94110A post shared by La Torta Gorda Restaurant (@latorta_gorda_restaurant)Of course, you come to La Torta Gorda for Armando Macuil’s crazy-good, panini-pressed tortas, but his Pueblan specialties are the standouts. Specifically, the taco árabe, the great Lebanese import to Mexico, features tortillas he sources directly from Puebla that are stuffed with sliced pork butt he marinates in orange, lime, vinegar, parsley, onion, and oregano before searing on the plancha. He recommends a schmear of his smokey chipotle morita salsa, but I’m partial to his salsa verde crudo, which is full of spicy serrano, cilantro, onion, garlic, and a good amount of salt. The choice is yours of course.2833 24th St, San Francisco, CA 94110A post shared by 🐽 COCHINITA (@cochinita.sf)Run by business and life partners Karen González and Sergio Albornoz, who grew up in Yucatán, the colorful cochinita truck can be found parked right along The Marina with views of both the Golden Gate bridge and Alcatraz. There’s not much more of a picturesque San Francisco scene as you sink your teeth into their excellent, juicy cochinita pibil. Their charred salsa is tomatillo-based and features habaneros, jalapeños, and serranos to spice it up, while the pickled red onion requisitely cut through it all.\\xa0 You could get it in taco form, but I actually prefer the cochinita pibil panucho or salbute, both of which are made from fresh masa and puffed in hot oil for maximum texture. Sure, they’re technically not tacos, but they’re basically tacos.Two locations: One in Golden Gate Park and another at 500 Marina Boulevard.Sign up for our free newsletterThe Midnight Hour in San Fernando has hosted dozens of benefit shows, raising thousands of dollars for local LGBTQ+ and Palestinian organizations. Its landlord reportedly refused to help with repairs or lost income due to damaged equipment and goods at the shop. A fundraiser is now up.Or you can have hummus with a bust of Jesus on your table from one of the Southwest\\'s seminal chefs on La Brea. Your call.Connecting East L.A. to the rest of Los Angeles, Metro\\'s 18 bus is a legendary mainline to spectacular tacos, including curbside tacos de canasta, famous Baja fish tacos, insane tlayudas, and the most taco-y plate of vegan barbacoa pasta you\\'ve ever seen.The lead prosecutor disclosed that Enamorado and Wendy Lujan, who are raising children together, allegedly “violated jail rules” by setting up a three-way call to be able to talk, landing them both in solitary confinement.A juicy birria burrito, a slow-cooked carnitas burrito, and even a satisfying surf-n-turf shrimp-asada burrito for those who want it all, here are our favorite flour tortilla-wrapped masterpieces in the big bad S.G.V.Celebrating the Taco Lifestyle in Los Angeles, CASign up for our free newsletter\",\"title\":\"The L.A. TACO Travel Guide to San Francisco\\'s Best Taquerías, Mapped ~ L.A. TACO\"}]}],\"is_generating\":false,\"duration\":4.703567981719971,\"average_duration\":6.807917782754609}'"
      ]
     },
     "execution_count": 37,
     "metadata": {},
     "output_type": "execute_result"
    }
   ],
   "source": [
    "response.json()"
   ]
  },
  {
   "cell_type": "code",
   "execution_count": null,
   "metadata": {},
   "outputs": [],
   "source": []
  },
  {
   "cell_type": "code",
   "execution_count": null,
   "metadata": {},
   "outputs": [],
   "source": []
  },
  {
   "cell_type": "code",
   "execution_count": null,
   "metadata": {},
   "outputs": [],
   "source": []
  },
  {
   "cell_type": "code",
   "execution_count": null,
   "metadata": {},
   "outputs": [],
   "source": []
  },
  {
   "cell_type": "code",
   "execution_count": null,
   "metadata": {},
   "outputs": [],
   "source": []
  }
 ],
 "metadata": {
  "kernelspec": {
   "display_name": "Python 3 (ipykernel)",
   "language": "python",
   "name": "python3"
  },
  "language_info": {
   "codemirror_mode": {
    "name": "ipython",
    "version": 3
   },
   "file_extension": ".py",
   "mimetype": "text/x-python",
   "name": "python",
   "nbconvert_exporter": "python",
   "pygments_lexer": "ipython3",
   "version": "3.10.13"
  }
 },
 "nbformat": 4,
 "nbformat_minor": 4
}
