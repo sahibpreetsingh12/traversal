{
 "cells": [
  {
   "cell_type": "code",
   "execution_count": 1,
   "metadata": {},
   "outputs": [
    {
     "data": {
      "text/plain": [
       "True"
      ]
     },
     "execution_count": 1,
     "metadata": {},
     "output_type": "execute_result"
    }
   ],
   "source": [
    "from langchain_community.vectorstores import Qdrant\n",
    "from langchain_community.embeddings import HuggingFaceEmbeddings\n",
    "import qdrant_client\n",
    "from dotenv import load_dotenv\n",
    "import os\n",
    "load_dotenv()"
   ]
  },
  {
   "cell_type": "code",
   "execution_count": 2,
   "metadata": {},
   "outputs": [],
   "source": [
    "QDRANT_URL = os.getenv('QDRANT_URL')\n",
    "QDRANT_API_KEY = os.getenv('QDRANT_API_KEY')\n",
    "ARES_API_KEY = os.getenv('ARES_API_KEY')\n",
    "VECTOR_DB_COLLECTION = 'traversal'"
   ]
  },
  {
   "cell_type": "code",
   "execution_count": 19,
   "metadata": {},
   "outputs": [],
   "source": [
    "OPENAI_API_KEY = os.getenv('open_ai_key')\n"
   ]
  },
  {
   "cell_type": "code",
   "execution_count": null,
   "metadata": {},
   "outputs": [],
   "source": []
  },
  {
   "cell_type": "code",
   "execution_count": 3,
   "metadata": {},
   "outputs": [
    {
     "data": {
      "text/plain": [
       "'ares_6bef1fc88e7c0daa492494b7a863936dd8326dc8d37152599b5b384b6a907a94'"
      ]
     },
     "execution_count": 3,
     "metadata": {},
     "output_type": "execute_result"
    }
   ],
   "source": [
    "ARES_API_KEY"
   ]
  },
  {
   "cell_type": "code",
   "execution_count": 4,
   "metadata": {},
   "outputs": [],
   "source": [
    "embeddings = HuggingFaceEmbeddings(model_name=\"all-MiniLM-L6-v2\")"
   ]
  },
  {
   "cell_type": "code",
   "execution_count": 5,
   "metadata": {},
   "outputs": [],
   "source": [
    "qdrant_client_obj = qdrant_client.QdrantClient(\n",
    "        url=QDRANT_URL,\n",
    "        prefer_grpc=True,\n",
    "        api_key=QDRANT_API_KEY)\n",
    "qdrant = Qdrant(qdrant_client_obj, VECTOR_DB_COLLECTION, embeddings)"
   ]
  },
  {
   "cell_type": "code",
   "execution_count": 6,
   "metadata": {},
   "outputs": [],
   "source": [
    "retriever = qdrant.as_retriever(search_type=\"mmr\") # qdrant is used as retriever to make a chain"
   ]
  },
  {
   "cell_type": "markdown",
   "metadata": {},
   "source": [
    "## Step 1: Semantic Search with Qdrant"
   ]
  },
  {
   "cell_type": "code",
   "execution_count": 7,
   "metadata": {},
   "outputs": [
    {
     "name": "stdout",
     "output_type": "stream",
     "text": [
      "hotel_name: Romance Istanbul Hotel\n",
      "hotel_description: Romance Istanbul Hotel has 39 rooms.Every room is elegantly furnished and harmonizes the modern life style with the traditional Ottoman touch. Romance Istanbul sits at the intersection of the old city’s most important part. With its luxuriously inspiring design and landmark old city location, steeped in the history of its surroundings, Romance Istanbul Hotel welcomes you with exceptional designed rooms and world-renowned Turkish hospitality. Our colleagues deliver the most personal service. It is perfectly placed and perfectly designed to enhance all that Istanbul has to offer. Each room offers a private bathroom and shower. Each is equipped with a satellite TV and free wifi connection. The rooms size change between 20 m2 and 45 m2. It includes 7 suite rooms: 1 Royal Suite, 4 Grand Suite, 1 Romance Suite and 1 Premium Suite, 2 Luxury Room With Terrace, 22 Deluxe Room, 8 City Room.\n",
      "review_title: Very nice visit to Turkey\n",
      "review_text: The hotel was in a great location for the palace and blocks away from the bazaar’s. Coffee down the street along with taxi drop off and pick up. Staff was friendly and welcoming. Free welcome drink and snack. Decoration is nice and homey. Highly recommend.\n",
      "rate: 5.0\n",
      "tripdate: January 2024\n",
      "hotel_url: https://www.tripadvisor.com/Hotel_Review-g293974-d8364987-Reviews-or10-Romance_Istanbul_Hotel-Istanbul.html\n",
      "hotel_image: https://media-cdn.tripadvisor.com/media/photo-s/1c/02/78/ba/romance-istanbul-hotel.jpg\n",
      "price_range: $ (Based on Average Nightly Rates for a Standard Room from our Partners)\n",
      "rating_value: 5.0\n",
      "review_count: 4023\n",
      "street_address: Hudavendigar Cd. No:5 Sirkeci\n",
      "locality: Istanbul\n",
      "country: Turkiye\n"
     ]
    }
   ],
   "source": [
    "query = \"describe Romance Istanbul Hotel\"\n",
    "res = retriever.get_relevant_documents(query)[0].page_content\n",
    "print(res)"
   ]
  },
  {
   "cell_type": "code",
   "execution_count": 8,
   "metadata": {},
   "outputs": [
    {
     "name": "stdout",
     "output_type": "stream",
     "text": [
      "{\n",
      "    \"hotel_name\": \"Romance Istanbul Hotel\",\n",
      "    \"hotel_description\": \"Romance Istanbul Hotel has 39 rooms.Every room is elegantly furnished and harmonizes the modern life style with the traditional Ottoman touch. Romance Istanbul sits at the intersection of the old city\\u2019s most important part. With its luxuriously inspiring design and landmark old city location, steeped in the history of its surroundings, Romance Istanbul Hotel welcomes you with exceptional designed rooms and world-renowned Turkish hospitality. Our colleagues deliver the most personal service. It is perfectly placed and perfectly designed to enhance all that Istanbul has to offer. Each room offers a private bathroom and shower. Each is equipped with a satellite TV and free wifi connection. The rooms size change between 20 m2 and 45 m2. It includes 7 suite rooms: 1 Royal Suite, 4 Grand Suite, 1 Romance Suite and 1 Premium Suite, 2 Luxury Room With Terrace, 22 Deluxe Room, 8 City Room.\",\n",
      "    \"review_title\": \"Very nice visit to Turkey\",\n",
      "    \"review_text\": \"The hotel was in a great location for the palace and blocks away from the bazaar\\u2019s. Coffee down the street along with taxi drop off and pick up. Staff was friendly and welcoming. Free welcome drink and snack. Decoration is nice and homey. Highly recommend.\",\n",
      "    \"rate\": \"5.0\",\n",
      "    \"tripdate\": \"January 2024\",\n",
      "    \"hotel_url\": \"https://www.tripadvisor.com/Hotel_Review-g293974-d8364987-Reviews-or10-Romance_Istanbul_Hotel-Istanbul.html\",\n",
      "    \"hotel_image\": \"https://media-cdn.tripadvisor.com/media/photo-s/1c/02/78/ba/romance-istanbul-hotel.jpg\",\n",
      "    \"price_range\": \"$ (Based on Average Nightly Rates for a Standard Room from our Partners)\",\n",
      "    \"rating_value\": \"5.0\",\n",
      "    \"review_count\": \"4023\",\n",
      "    \"street_address\": \"Hudavendigar Cd. No:5 Sirkeci\",\n",
      "    \"locality\": \"Istanbul\",\n",
      "    \"country\": \"Turkiye\"\n",
      "}\n"
     ]
    }
   ],
   "source": [
    "import json\n",
    "import re\n",
    "\n",
    "# Define a regex pattern to match key-value pairs\n",
    "pattern = r'(?P<key>.*?):\\s*(?P<value>.*)'\n",
    "\n",
    "# Initialize an empty dictionary to store key-value pairs\n",
    "json_data = {}\n",
    "\n",
    "# Iterate over matches of the pattern in the input string\n",
    "for match in re.finditer(pattern, res):\n",
    "    key = match.group('key').strip()\n",
    "    value = match.group('value').strip()\n",
    "    json_data[key] = value\n",
    "\n",
    "# Convert the dictionary to JSON\n",
    "json_string = json.dumps(json_data, indent=4)\n",
    "\n",
    "# Print the JSON string\n",
    "print(json_string)"
   ]
  },
  {
   "cell_type": "code",
   "execution_count": 9,
   "metadata": {},
   "outputs": [
    {
     "name": "stdout",
     "output_type": "stream",
     "text": [
      "{'hotel_name': 'Romance Istanbul Hotel', 'hotel_description': 'Romance Istanbul Hotel has 39 rooms.Every room is elegantly furnished and harmonizes the modern life style with the traditional Ottoman touch. Romance Istanbul sits at the intersection of the old city’s most important part. With its luxuriously inspiring design and landmark old city location, steeped in the history of its surroundings, Romance Istanbul Hotel welcomes you with exceptional designed rooms and world-renowned Turkish hospitality. Our colleagues deliver the most personal service. It is perfectly placed and perfectly designed to enhance all that Istanbul has to offer. Each room offers a private bathroom and shower. Each is equipped with a satellite TV and free wifi connection. The rooms size change between 20 m2 and 45 m2. It includes 7 suite rooms: 1 Royal Suite, 4 Grand Suite, 1 Romance Suite and 1 Premium Suite, 2 Luxury Room With Terrace, 22 Deluxe Room, 8 City Room.', 'review_title': 'Very nice visit to Turkey', 'review_text': 'The hotel was in a great location for the palace and blocks away from the bazaar’s. Coffee down the street along with taxi drop off and pick up. Staff was friendly and welcoming. Free welcome drink and snack. Decoration is nice and homey. Highly recommend.', 'rate': '5.0', 'tripdate': 'January 2024', 'hotel_url': 'https://www.tripadvisor.com/Hotel_Review-g293974-d8364987-Reviews-or10-Romance_Istanbul_Hotel-Istanbul.html', 'hotel_image': 'https://media-cdn.tripadvisor.com/media/photo-s/1c/02/78/ba/romance-istanbul-hotel.jpg', 'price_range': '$ (Based on Average Nightly Rates for a Standard Room from our Partners)', 'rating_value': '5.0', 'review_count': '4023', 'street_address': 'Hudavendigar Cd. No:5 Sirkeci', 'locality': 'Istanbul', 'country': 'Turkiye'}\n"
     ]
    }
   ],
   "source": [
    "print(json_data)"
   ]
  },
  {
   "cell_type": "code",
   "execution_count": 10,
   "metadata": {},
   "outputs": [],
   "source": [
    "hotel_name = json_data['hotel_name']"
   ]
  },
  {
   "cell_type": "code",
   "execution_count": 11,
   "metadata": {},
   "outputs": [
    {
     "data": {
      "text/plain": [
       "'Romance Istanbul Hotel'"
      ]
     },
     "execution_count": 11,
     "metadata": {},
     "output_type": "execute_result"
    }
   ],
   "source": [
    "hotel_name"
   ]
  },
  {
   "cell_type": "markdown",
   "metadata": {},
   "source": [
    "## Step 2: traversaal"
   ]
  },
  {
   "cell_type": "code",
   "execution_count": 12,
   "metadata": {},
   "outputs": [],
   "source": [
    "import requests\n",
    "\n",
    "url = \"https://api-ares.traversaal.ai/live/predict\"\n",
    "\n",
    "payload = { \"query\": [\"taco spots around\" + hotel_name] }\n",
    "headers = {\n",
    "  \"x-api-key\": ARES_API_KEY,\n",
    "  \"content-type\": \"application/json\"\n",
    "}\n",
    "\n",
    "response = requests.post(url, json=payload, headers=headers)"
   ]
  },
  {
   "cell_type": "code",
   "execution_count": 13,
   "metadata": {},
   "outputs": [
    {
     "data": {
      "text/plain": [
       "<Response [200]>"
      ]
     },
     "execution_count": 13,
     "metadata": {},
     "output_type": "execute_result"
    }
   ],
   "source": [
    "response"
   ]
  },
  {
   "cell_type": "markdown",
   "metadata": {},
   "source": [
    "'{\"data\":{\"response_text\":\"There are several taco spots near the Romance Istanbul Hotel. Here are some options:\\\\n\\\\n1. Ranchero - Located at Plaj Yolu Sok.\\\\n2. Los Altos - Located at Yeni Carsi Caddesi Tomtom Mahallesi No:38.\\\\n3. Tacofit - Located at Nisbetiye Cad. No:42/A, Beşiktaş.\\\\n4. El Rey del Taco - Located at Carr. Tulum - Cancún, Plaza Antares, Playa del Carmen.\\\\n5. El Fogon - Located at Calle 14 Nte Bis, Gonzalo Guerrero, Playa del Carmen.\\\\n6. Taco Paco - Located at Carr. Tulum - Cancún, Plaza Antares, Playa del Carmen.\\\\n7. Taquería Honorio - Located at Tulum.\\\\n8. Don Sirloin - Located at Plaza Point 115, Av. Ptempich, Playa del Carmen.\\\\n9. Carboncitos - Located at Calle 4 Nte S/N, Centro, Playa del Carmen.\\\\n10. Señor Taco - Located at 10 Avenida Nte. 221, Gonzalo Guerrero, Playa del Carmen.\\\\n\\\\nPlease note that the exact distance and availability may vary, so it\\'s recommended to check the addresses and operating hours before visiting.\",\"web_url\":[\"https://foursquare.com/top-places/istanbul/best-places-tacos\",\"https://www.yelp.com/biz/tacofit-istanbul\",\"https://www.romanceistanbulhotel.com/\",\"https://restaurantguru.com/tacos-Istanbul-m6523\",\"https://www.yelp.com/search?cflt=mexican&find_loc=Istanbul\",\"https://www.romanceistanbulhotel.com/romance-hotel-dining/\",\"https://www.grubhub.com/restaurant/istanbul-gyro--tacos-halal-8409-se-45th-ave-portland/4179728\",\"https://guide.michelin.com/us/en/istanbul-province/istanbul/restaurant/azur\",\"https://www.timeout.com/istanbul/things-to-do/kadikoy-moda-guide\",\"https://www.barcelo.com/pinandtravel/en/best-riviera-maya-tacos/\",\"https://www.tiktok.com/@nyctravelgal/video/7237516991509138731\",\"https://www.findmeglutenfree.com/tr/istanbul/breakfast\",\"https://dametraveler.com/restaurants-we-love-bar-otaku/\",\"https://www.willflyforfood.net/istanbul-restaurants/\",\"https://www.gimmesomeoven.com/life/alis-guide-to-mexico-city/\",\"https://johnnyafrica.com/mexico-city-tacos-tour-itinerary/\"]}}'\n"
   ]
  },
  {
   "cell_type": "code",
   "execution_count": 14,
   "metadata": {},
   "outputs": [
    {
     "name": "stdout",
     "output_type": "stream",
     "text": [
      "There are several taco spots near the Romance Istanbul Hotel. Here are some options:\n",
      "\n",
      "1. Ranchero - Located at Plaj Yolu Sok.\n",
      "2. Los Altos - Located at Yeni Carsi Caddesi Tomtom Mahallesi No:38.\n",
      "3. Tacofit - Located at Nisbetiye Cad. No:42/A, Beşiktaş.\n",
      "4. El Rey del Taco - Located at Carr. Tulum - Cancún, Plaza Antares, Playa del Carmen.\n",
      "5. El Fogon - Located at Calle 14 Nte Bis, Gonzalo Guerrero, Playa del Carmen.\n",
      "6. Taco Paco - Located at Carr. Tulum - Cancún, Plaza Antares, Playa del Carmen.\n",
      "7. Taquería Honorio - Located at Tulum.\n",
      "8. Don Sirloin - Located at Plaza Point 115, Av. Ptempich, Playa del Carmen.\n",
      "9. Carboncitos - Located at Calle 4 Nte S/N, Centro, Playa del Carmen.\n",
      "10. Señor Taco - Located at 10 Avenida Nte. 221, Gonzalo Guerrero, Playa del Carmen.\n",
      "\n",
      "Please note that the exact distance and availability may vary, so it's recommended to check the addresses and operating hours before visiting.\n"
     ]
    }
   ],
   "source": [
    "json_data = json.loads(response.text)\n",
    "\n",
    "# Access the 'response_text' field\n",
    "response_text = json_data['data']['response_text']\n",
    "\n",
    "# Print the 'response_text'\n",
    "print(response_text)"
   ]
  },
  {
   "cell_type": "code",
   "execution_count": 15,
   "metadata": {},
   "outputs": [
    {
     "name": "stdout",
     "output_type": "stream",
     "text": [
      "['https://foursquare.com/top-places/istanbul/best-places-tacos', 'https://www.yelp.com/biz/tacofit-istanbul', 'https://www.romanceistanbulhotel.com/', 'https://restaurantguru.com/tacos-Istanbul-m6523', 'https://www.yelp.com/search?cflt=mexican&find_loc=Istanbul', 'https://www.romanceistanbulhotel.com/romance-hotel-dining/', 'https://www.grubhub.com/restaurant/istanbul-gyro--tacos-halal-8409-se-45th-ave-portland/4179728', 'https://guide.michelin.com/us/en/istanbul-province/istanbul/restaurant/azur', 'https://www.timeout.com/istanbul/things-to-do/kadikoy-moda-guide', 'https://www.barcelo.com/pinandtravel/en/best-riviera-maya-tacos/', 'https://www.tiktok.com/@nyctravelgal/video/7237516991509138731', 'https://www.findmeglutenfree.com/tr/istanbul/breakfast', 'https://dametraveler.com/restaurants-we-love-bar-otaku/', 'https://www.willflyforfood.net/istanbul-restaurants/', 'https://www.gimmesomeoven.com/life/alis-guide-to-mexico-city/', 'https://johnnyafrica.com/mexico-city-tacos-tour-itinerary/']\n"
     ]
    }
   ],
   "source": [
    "json_data = json.loads(response.text)\n",
    "\n",
    "# Access the 'response_text' field\n",
    "response_text = json_data['data']['web_url']\n",
    "\n",
    "# Print the 'response_text'\n",
    "print(response_text)"
   ]
  },
  {
   "cell_type": "markdown",
   "metadata": {},
   "source": [
    "### Step 3 OpenAI"
   ]
  },
  {
   "cell_type": "code",
   "execution_count": 17,
   "metadata": {},
   "outputs": [],
   "source": [
    "from langchain_openai import ChatOpenAI\n",
    "from langchain_core.output_parsers import StrOutputParser\n",
    "from langchain_core.runnables import RunnablePassthrough\n",
    "from langchain_core.prompts.chat import ChatPromptTemplate"
   ]
  },
  {
   "cell_type": "code",
   "execution_count": 21,
   "metadata": {},
   "outputs": [],
   "source": [
    "template = \"\"\"\n",
    "Answer the user's questions: {question} based on the below context:\\n\\n{context} remember that you are awesome hotel advisor\n",
    "\"\"\"\n",
    "prompt = ChatPromptTemplate.from_template(template)\n",
    "llm = ChatOpenAI(model=\"gpt-3.5-turbo\", temperature=0.2,api_key=OPENAI_API_KEY)\n",
    "\n",
    "rag_chain = (\n",
    "    {\"context\": retriever , \"question\": RunnablePassthrough()}\n",
    "    | prompt\n",
    "    | llm\n",
    "    | StrOutputParser()\n",
    ")"
   ]
  },
  {
   "cell_type": "code",
   "execution_count": 22,
   "metadata": {},
   "outputs": [
    {
     "name": "stderr",
     "output_type": "stream",
     "text": [
      "huggingface/tokenizers: The current process just got forked, after parallelism has already been used. Disabling parallelism to avoid deadlocks...\n",
      "To disable this warning, you can either:\n",
      "\t- Avoid using `tokenizers` before the fork if possible\n",
      "\t- Explicitly set the environment variable TOKENIZERS_PARALLELISM=(true | false)\n"
     ]
    },
    {
     "name": "stdout",
     "output_type": "stream",
     "text": [
      "Based on the provided information, Romance Istanbul Hotel is a boutique hotel located in Istanbul, Turkey. It has 39 elegantly furnished rooms that blend modern lifestyle with traditional Ottoman touches. The hotel is situated at the intersection of the old city's most important part, making it convenient for exploring historical sites like the Hagia Sophia and Topkapi Palace.\n",
      "\n",
      "The hotel offers various room types, including suite rooms, luxury rooms with a terrace, deluxe rooms, and city rooms. Each room comes with a private bathroom, shower, satellite TV, and free wifi connection. Guests have praised the friendly and welcoming staff, as well as the hotel's cozy decoration and relaxing amenities like the hamam.\n",
      "\n",
      "Overall, Romance Istanbul Hotel has received positive reviews for its prime location, excellent service, and comfortable accommodations, making it a highly recommended choice for visitors to Istanbul.\n"
     ]
    }
   ],
   "source": [
    "print(rag_chain.invoke(query))"
   ]
  },
  {
   "cell_type": "markdown",
   "metadata": {},
   "source": [
    "Romance Istanbul Hotel is a boutique hotel located in Istanbul with 39 elegantly furnished rooms that blend modern lifestyle with traditional Ottoman touches. Situated at the intersection of the old city's most important part, the hotel offers exceptional design, world-renowned Turkish hospitality, and personalized service. Each room features a private bathroom, shower, satellite TV, and free wifi connection, with sizes ranging from 20 m2 to 45 m2. The hotel includes various room types such as suite rooms, luxury rooms with terrace, deluxe rooms, and city rooms. Guests have praised the hotel's great location near historical sites, friendly staff, delicious breakfast, and clean rooms. Overall, Romance Istanbul Hotel offers a comfortable and convenient stay for visitors to Istanbul."
   ]
  }
 ],
 "metadata": {
  "kernelspec": {
   "display_name": "Python 3 (ipykernel)",
   "language": "python",
   "name": "python3"
  },
  "language_info": {
   "codemirror_mode": {
    "name": "ipython",
    "version": 3
   },
   "file_extension": ".py",
   "mimetype": "text/x-python",
   "name": "python",
   "nbconvert_exporter": "python",
   "pygments_lexer": "ipython3",
   "version": "3.10.13"
  }
 },
 "nbformat": 4,
 "nbformat_minor": 4
}
